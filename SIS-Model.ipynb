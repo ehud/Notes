{
 "cells": [
  {
   "cell_type": "markdown",
   "metadata": {},
   "source": [
    "# Tipping point models, epidemics, and vaccination\n",
    "\n",
    "The SIS model from epidemiology as an example of a model exhibiting a tipping point. This model allows us to calculate the percentage of a population that needs to be vaccinated in order to get population level herd immunity.\n",
    "\n",
    "There's a nice animation [here](http://www.theguardian.com/society/ng-interactive/2015/feb/05/-sp-watch-how-measles-outbreak-spreads-when-kids-get-vaccinated).\n",
    "\n",
    "The discussion here is heavily based on the discussion of tipping points in Scott Page's very nice *coursera* course on [Model Thinking](https://www.coursera.org/learn/model-thinking/home/week/4). I essentially transcribed his algebra in SymPy.\n",
    "\n",
    "For more information on the models discussed here, hop over to [Wikipedia](https://en.wikipedia.org/wiki/Compartmental_models_in_epidemiology)."
   ]
  },
  {
   "cell_type": "markdown",
   "metadata": {},
   "source": [
    "## Diffusion model\n",
    "\n",
    "The first model we develop is a simple diffusion model. It has no tipping, but shows that the spread of infectious diseases is an accelating process, that becomes quicker as more people are infected.\n",
    "\n",
    "First some general definitions of symbols."
   ]
  },
  {
   "cell_type": "code",
   "execution_count": 1,
   "metadata": {},
   "outputs": [],
   "source": [
    "import sympy as sm\n",
    "sm.init_printing()\n",
    "from sympy.abc import N, c, t, tau\n",
    "Wt = sm.symbols('Wt')\n",
    "Wtt, Penc = sm.symbols('Wtt,Penc',cls=sm.Function)"
   ]
  },
  {
   "cell_type": "markdown",
   "metadata": {},
   "source": [
    "Let $W_t$ be the number of sick people in the population, whose overall size is $N$. Here is the formula for $P_{enc}$,  the probability that a healthy person and a sick person meet. These are the cases in which an infection can happen. "
   ]
  },
  {
   "cell_type": "code",
   "execution_count": 2,
   "metadata": {},
   "outputs": [],
   "source": [
    "Penc = (Wt/N)*((N - Wt)/N)"
   ]
  },
  {
   "cell_type": "markdown",
   "metadata": {},
   "source": [
    "Using this we can write down the number of infected individuals in the next time period. It is $W_t$ plus the number of newly infected inviduals which depends on $P_{enc}$ as well as on $c$, the probability the people in the population interact, and $\\tau$, the transmission rate of the disease. "
   ]
  },
  {
   "cell_type": "code",
   "execution_count": 3,
   "metadata": {},
   "outputs": [],
   "source": [
    "Wtt=N*c*Penc*tau + Wt"
   ]
  },
  {
   "cell_type": "code",
   "execution_count": 4,
   "metadata": {},
   "outputs": [
    {
     "data": {
      "image/png": "[encoded data removed]",
      "text/latex": [
       "$$Wt + \\frac{Wt c \\tau \\left(N - Wt\\right)}{N}$$"
      ],
      "text/plain": [
       "     Wt⋅c⋅τ⋅(N - Wt)\n",
       "Wt + ───────────────\n",
       "            N       "
      ]
     },
     "execution_count": 4,
     "metadata": {},
     "output_type": "execute_result"
    }
   ],
   "source": [
    "Wtt"
   ]
  },
  {
   "cell_type": "markdown",
   "metadata": {},
   "source": [
    "To understand the dynamics of this process it is enough study how $P_{enc}$ changes as $W_t$ increases. "
   ]
  },
  {
   "cell_type": "code",
   "execution_count": 5,
   "metadata": {},
   "outputs": [
    {
     "data": {
      "image/png": "[encoded data removed]",
      "text/latex": [
       "$$\\frac{Wt \\left(N - Wt\\right)}{N^{2}}$$"
      ],
      "text/plain": [
       "Wt⋅(N - Wt)\n",
       "───────────\n",
       "      2    \n",
       "     N     "
      ]
     },
     "execution_count": 5,
     "metadata": {},
     "output_type": "execute_result"
    }
   ],
   "source": [
    "Penc"
   ]
  },
  {
   "cell_type": "markdown",
   "metadata": {},
   "source": [
    "First, let's see what happens when $W_t$ is small and $N$ is large."
   ]
  },
  {
   "cell_type": "code",
   "execution_count": 6,
   "metadata": {},
   "outputs": [
    {
     "data": {
      "image/png": "[encoded data removed]",
      "text/latex": [
       "$$\\frac{N - 1}{N^{2}}$$"
      ],
      "text/plain": [
       "N - 1\n",
       "─────\n",
       "   2 \n",
       "  N  "
      ]
     },
     "execution_count": 6,
     "metadata": {},
     "output_type": "execute_result"
    }
   ],
   "source": [
    "Penc.subs([(Wt,1)])"
   ]
  },
  {
   "cell_type": "code",
   "execution_count": 7,
   "metadata": {},
   "outputs": [
    {
     "data": {
      "image/png": "[encoded data removed]",
      "text/latex": [
       "$$\\frac{1}{N}$$"
      ],
      "text/plain": [
       "1\n",
       "─\n",
       "N"
      ]
     },
     "execution_count": 7,
     "metadata": {},
     "output_type": "execute_result"
    }
   ],
   "source": [
    "Penc.subs([(Wt,1)]).subs([(N-1,N)])"
   ]
  },
  {
   "cell_type": "markdown",
   "metadata": {},
   "source": [
    "Or you can do it in one step"
   ]
  },
  {
   "cell_type": "code",
   "execution_count": 8,
   "metadata": {},
   "outputs": [
    {
     "data": {
      "image/png": "[encoded data removed]",
      "text/latex": [
       "$$\\frac{1}{N}$$"
      ],
      "text/plain": [
       "1\n",
       "─\n",
       "N"
      ]
     },
     "execution_count": 8,
     "metadata": {},
     "output_type": "execute_result"
    }
   ],
   "source": [
    "Penc.subs([(Wt,1),(N-1,N)])"
   ]
  },
  {
   "cell_type": "markdown",
   "metadata": {},
   "source": [
    "Thus, when $W_t$ is small, the probability of encountering someone who is sick is low. What happens when $W_t$ is large, i.e. $W_t\\approx N$?"
   ]
  },
  {
   "cell_type": "code",
   "execution_count": 9,
   "metadata": {},
   "outputs": [
    {
     "data": {
      "image/png": "[encoded data removed]",
      "text/latex": [
       "$$0$$"
      ],
      "text/plain": [
       "0"
      ]
     },
     "execution_count": 9,
     "metadata": {},
     "output_type": "execute_result"
    }
   ],
   "source": [
    "Penc.subs([(Wt,N)])"
   ]
  },
  {
   "cell_type": "markdown",
   "metadata": {},
   "source": [
    "Zero?? How come?! The reason is simple (and symmetric): in this case the probability of encountering someone who is *healthy* is very low, hence the probability of an encouter between a sick person and a health person is low. To complete the picture, let's check what happens when $W_t=N/2$"
   ]
  },
  {
   "cell_type": "code",
   "execution_count": 10,
   "metadata": {},
   "outputs": [
    {
     "data": {
      "image/png": "[encoded data removed]",
      "text/latex": [
       "$$\\frac{1}{4}$$"
      ],
      "text/plain": [
       "1/4"
      ]
     },
     "execution_count": 10,
     "metadata": {},
     "output_type": "execute_result"
    }
   ],
   "source": [
    "Penc.subs([(Wt,N/2)])"
   ]
  },
  {
   "cell_type": "markdown",
   "metadata": {},
   "source": [
    "Ha!"
   ]
  },
  {
   "cell_type": "markdown",
   "metadata": {},
   "source": [
    "For completeness let's put down some assumptions and graph $W_t$ over time. Assume N=100, $\\tau=0.5$ (which is very high). Start with only on person sick, i.e. $W_0=1$. Let $c=0.5$ too."
   ]
  },
  {
   "cell_type": "code",
   "execution_count": 11,
   "metadata": {},
   "outputs": [],
   "source": [
    "Wupdate=Wtt.subs([(N,100),(tau,0.5),(c,0.5)])"
   ]
  },
  {
   "cell_type": "code",
   "execution_count": 12,
   "metadata": {},
   "outputs": [],
   "source": [
    "ws=[1]\n",
    "for t in range(0,49):\n",
    "    ws.append(Wupdate.subs([(Wt,ws[-1:][0])]))"
   ]
  },
  {
   "cell_type": "code",
   "execution_count": 13,
   "metadata": {},
   "outputs": [],
   "source": [
    "%matplotlib notebook"
   ]
  },
  {
   "cell_type": "code",
   "execution_count": 14,
   "metadata": {},
   "outputs": [],
   "source": [
    "import matplotlib.pyplot as plt"
   ]
  },
  {
   "cell_type": "code",
   "execution_count": 15,
   "metadata": {},
   "outputs": [
    {
     "name": "stdout",
     "output_type": "stream",
     "text": [
      "Populating the interactive namespace from numpy and matplotlib\n"
     ]
    }
   ],
   "source": [
    "%pylab inline"
   ]
  },
  {
   "cell_type": "code",
   "execution_count": 16,
   "metadata": {},
   "outputs": [
    {
     "data": {
      "image/png": "[encoded data removed]",
      "text/plain": [
       "<Figure size 432x288 with 1 Axes>"
      ]
     },
     "metadata": {
      "needs_background": "light"
     },
     "output_type": "display_data"
    }
   ],
   "source": [
    "plt.plot(range(0,50),ws)\n",
    "plt.ylabel('Number of infected individuals')\n",
    "plt.xlabel('time')\n",
    "plt.title('Diffusion of infection');"
   ]
  },
  {
   "cell_type": "markdown",
   "metadata": {},
   "source": [
    "As Scott Page explains in his lecture, what we see here is simply an accelarting process, not a tipping point. This accelaration matches the expectation we developed earlier by studying algebracially the properties of $P_{enc}$."
   ]
  },
  {
   "cell_type": "markdown",
   "metadata": {},
   "source": [
    "## The SIS model"
   ]
  },
  {
   "cell_type": "markdown",
   "metadata": {},
   "source": [
    "We now turn to the SIS model (Susceptible-Infected-Susceptible). The difference is that now infected individuals can become cured, and reutrn to the pool of susceptible individuals (thus, being sick does not make you immune to subsequent reinfection). The difference consists solely of adding a term to $W_{t+1}$ measuring the numer of cured inviduals. Let $a$ be the rate of being cured."
   ]
  },
  {
   "cell_type": "code",
   "execution_count": 17,
   "metadata": {},
   "outputs": [],
   "source": [
    "a = sm.symbols('a',negative=False, real=True)\n",
    "Wtt_sis = sm.symbols('Wtt_sis',cls=sm.Function)\n",
    "Wtt_sis = Wtt - a*Wt"
   ]
  },
  {
   "cell_type": "code",
   "execution_count": 18,
   "metadata": {},
   "outputs": [
    {
     "data": {
      "image/png": "[encoded data removed]",
      "text/latex": [
       "$$- Wt a + Wt + \\frac{Wt c \\tau \\left(N - Wt\\right)}{N}$$"
      ],
      "text/plain": [
       "             Wt⋅c⋅τ⋅(N - Wt)\n",
       "-Wt⋅a + Wt + ───────────────\n",
       "                    N       "
      ]
     },
     "execution_count": 18,
     "metadata": {},
     "output_type": "execute_result"
    }
   ],
   "source": [
    "Wtt_sis"
   ]
  },
  {
   "cell_type": "markdown",
   "metadata": {},
   "source": [
    "We are just interested in the change, so let's simplify things a bit:"
   ]
  },
  {
   "cell_type": "code",
   "execution_count": 19,
   "metadata": {},
   "outputs": [
    {
     "data": {
      "image/png": "[encoded data removed]",
      "text/latex": [
       "$$Wt \\left(- a + \\frac{c \\tau \\left(N - Wt\\right)}{N}\\right)$$"
      ],
      "text/plain": [
       "   ⎛     c⋅τ⋅(N - Wt)⎞\n",
       "Wt⋅⎜-a + ────────────⎟\n",
       "   ⎝          N      ⎠"
      ]
     },
     "execution_count": 19,
     "metadata": {},
     "output_type": "execute_result"
    }
   ],
   "source": [
    "change=sm.collect(Wtt_sis -Wt,Wt)\n",
    "change"
   ]
  },
  {
   "cell_type": "markdown",
   "metadata": {},
   "source": [
    "Now assume $Wt<<N$"
   ]
  },
  {
   "cell_type": "code",
   "execution_count": 20,
   "metadata": {},
   "outputs": [
    {
     "data": {
      "image/png": "[encoded data removed]",
      "text/latex": [
       "$$Wt \\left(- a + c \\tau\\right)$$"
      ],
      "text/plain": [
       "Wt⋅(-a + c⋅τ)"
      ]
     },
     "execution_count": 20,
     "metadata": {},
     "output_type": "execute_result"
    }
   ],
   "source": [
    "change.subs([(N-Wt,N)])"
   ]
  },
  {
   "cell_type": "markdown",
   "metadata": {},
   "source": [
    "so the number of infections will increase (i.e., the infection will spread) if $c\\tau-a>0$, or $c\\tau/a>1$. This number $R_0=c\\tau/a$ is called the **Basic reproduction number**. If it is bigger than 1, the disease spreads. This (as opposed to that we saw in the diffusion model) is a true *tipping point*. $R_0$ values for several well-known diseases (via Wikipedia): Measles - 12-18; Mumps - 4-7; HIV - 2-5; Flu - 2-3; Ebola - 1.5-2.5. Ouch!"
   ]
  },
  {
   "cell_type": "markdown",
   "metadata": {},
   "source": [
    "### Vaccines"
   ]
  },
  {
   "cell_type": "markdown",
   "metadata": {},
   "source": [
    "Assuming a vaccine is 100% effective, we should check $r_0=R_0(1-v)$, where $v$ is the proportion of the population that is vaccinated (making $1-v$ the proportion of individuals who are not vaccinated) instead of $R_0$. If you are not sure why, review the expression used to derive $R_0$. For vaccination to be effective we need $R_0(1-v)<1$ "
   ]
  },
  {
   "cell_type": "code",
   "execution_count": 21,
   "metadata": {},
   "outputs": [
    {
     "data": {
      "image/png": "[encoded data removed]",
      "text/latex": [
       "$$R \\left(- v + 1\\right) < 1$$"
      ],
      "text/plain": [
       "R⋅(-v + 1) < 1"
      ]
     },
     "execution_count": 21,
     "metadata": {},
     "output_type": "execute_result"
    }
   ],
   "source": [
    "v,R = sm.symbols('v,R',negative=False, real=True)\n",
    "R*(1-v)<1"
   ]
  },
  {
   "cell_type": "markdown",
   "metadata": {},
   "source": [
    "Thus"
   ]
  },
  {
   "cell_type": "code",
   "execution_count": 22,
   "metadata": {},
   "outputs": [
    {
     "data": {
      "image/png": "[encoded data removed]",
      "text/latex": [
       "$$- v + 1 < \\frac{1}{R}$$"
      ],
      "text/plain": [
       "         1\n",
       "-v + 1 < ─\n",
       "         R"
      ]
     },
     "execution_count": 22,
     "metadata": {},
     "output_type": "execute_result"
    }
   ],
   "source": [
    "1-v<1/R"
   ]
  },
  {
   "cell_type": "code",
   "execution_count": 23,
   "metadata": {},
   "outputs": [
    {
     "data": {
      "image/png": "[encoded data removed]",
      "text/latex": [
       "$$v > 1 - \\frac{1}{R}$$"
      ],
      "text/plain": [
       "        1\n",
       "v > 1 - ─\n",
       "        R"
      ]
     },
     "execution_count": 23,
     "metadata": {},
     "output_type": "execute_result"
    }
   ],
   "source": [
    "v>1-1/R"
   ]
  },
  {
   "cell_type": "markdown",
   "metadata": {},
   "source": [
    "$v$ has to be above this threshold for vaccination to be effective in stopping the spread othe disease. Below that number there is no population level effect (\"herd immunity\"). That's the key result: the beneifts do not increase linearly, with each vaccinated inidividual improving the protection of the population by the same amount. There's a tipping point, which depends on $R_0$. Thus, for measles, we need:"
   ]
  },
  {
   "cell_type": "code",
   "execution_count": 24,
   "metadata": {},
   "outputs": [
    {
     "data": {
      "image/png": "[encoded data removed]",
      "text/latex": [
       "$$0.9444444444444444$$"
      ],
      "text/plain": [
       "0.9444444444444444"
      ]
     },
     "execution_count": 24,
     "metadata": {},
     "output_type": "execute_result"
    }
   ],
   "source": [
    "1-(1.0/18)"
   ]
  },
  {
   "cell_type": "markdown",
   "metadata": {},
   "source": [
    "or essentially 95% of the population to be vaccinated to get herd immunity. This has profound policy implications.\n",
    "To be provocative: If you, as a health official, know that this number is unatainable (e.g., because too many people decide not to vaccinate their kids for some reason) -- should you recommend stopping the program to mandate vaccinatons on everyone else?"
   ]
  },
  {
   "cell_type": "markdown",
   "metadata": {},
   "source": [
    "## Plotting the SIS curve"
   ]
  },
  {
   "cell_type": "markdown",
   "metadata": {},
   "source": [
    "Let's compare the spread of the infection in the original model and in the SIS model."
   ]
  },
  {
   "cell_type": "code",
   "execution_count": 25,
   "metadata": {},
   "outputs": [
    {
     "data": {
      "image/png": "[encoded data removed]",
      "text/plain": [
       "<Figure size 432x288 with 1 Axes>"
      ]
     },
     "metadata": {
      "needs_background": "light"
     },
     "output_type": "display_data"
    }
   ],
   "source": [
    "Wupdate_sis=Wtt_sis.subs([(N,100),(tau,0.5),(c,0.5),(a,0.1)])\n",
    "ws_sis=[1]\n",
    "for t in range(0,99):\n",
    "    ws_sis.append(Wupdate_sis.subs([(Wt,ws_sis[-1:][0])]))\n",
    "plt.plot(range(0,50),ws)\n",
    "plt.plot(range(0,100),ws_sis,color='r')\n",
    "plt.ylabel('Number of infected individuals')\n",
    "plt.xlabel('time')\n",
    "plt.title('Diffusion of infection');"
   ]
  },
  {
   "cell_type": "markdown",
   "metadata": {},
   "source": [
    "# SIR\n",
    "\n",
    "We now change the previous model, so that people who recover become immune to the disease and do not get it again. This version is called the SIR model (S for the number of susceptible, I for the number of infectious, and R for the number recovered individuals). The derivation is essentially the same as before."
   ]
  },
  {
   "cell_type": "code",
   "execution_count": 26,
   "metadata": {},
   "outputs": [],
   "source": [
    "Rt = sm.symbols('Rt')\n",
    "Rtt, Penc1 = sm.symbols('Rtt,Penc1',cls=sm.Function)"
   ]
  },
  {
   "cell_type": "code",
   "execution_count": 27,
   "metadata": {},
   "outputs": [],
   "source": [
    "# Penc = (Wt/N)*((N - Wt)/N)\n",
    "Penc1= (Wt/N)*((N - Rt - Wt)/N)"
   ]
  },
  {
   "cell_type": "code",
   "execution_count": 28,
   "metadata": {},
   "outputs": [
    {
     "data": {
      "image/png": "[encoded data removed]",
      "text/latex": [
       "$$\\frac{Wt \\left(N - Rt - Wt\\right)}{N^{2}}$$"
      ],
      "text/plain": [
       "Wt⋅(N - Rt - Wt)\n",
       "────────────────\n",
       "        2       \n",
       "       N        "
      ]
     },
     "execution_count": 28,
     "metadata": {},
     "output_type": "execute_result"
    }
   ],
   "source": [
    "Penc1"
   ]
  },
  {
   "cell_type": "code",
   "execution_count": 29,
   "metadata": {},
   "outputs": [],
   "source": [
    "Wtt_sir = sm.symbols('Wtt_sir',cls=sm.Function)"
   ]
  },
  {
   "cell_type": "code",
   "execution_count": 30,
   "metadata": {},
   "outputs": [
    {
     "data": {
      "image/png": "[encoded data removed]",
      "text/latex": [
       "$$- Wt a + Wt + \\frac{Wt c \\tau \\left(N - Rt - Wt\\right)}{N}$$"
      ],
      "text/plain": [
       "             Wt⋅c⋅τ⋅(N - Rt - Wt)\n",
       "-Wt⋅a + Wt + ────────────────────\n",
       "                      N          "
      ]
     },
     "execution_count": 30,
     "metadata": {},
     "output_type": "execute_result"
    }
   ],
   "source": [
    "Wtt_sir=N*c*Penc1*tau + Wt - a*Wt\n",
    "Wtt_sir"
   ]
  },
  {
   "cell_type": "code",
   "execution_count": 31,
   "metadata": {},
   "outputs": [
    {
     "data": {
      "image/png": "[encoded data removed]",
      "text/latex": [
       "$$Rt + Wt a$$"
      ],
      "text/plain": [
       "Rt + Wt⋅a"
      ]
     },
     "execution_count": 31,
     "metadata": {},
     "output_type": "execute_result"
    }
   ],
   "source": [
    "Rtt = Rt + a * Wt\n",
    "Rtt"
   ]
  },
  {
   "cell_type": "code",
   "execution_count": 32,
   "metadata": {},
   "outputs": [
    {
     "data": {
      "image/png": "[encoded data removed]",
      "text/plain": [
       "<Figure size 432x288 with 1 Axes>"
      ]
     },
     "metadata": {
      "needs_background": "light"
     },
     "output_type": "display_data"
    }
   ],
   "source": [
    "Wupdate_sir=Wtt_sir.subs([(N,100),(tau,0.5),(c,0.5),(a,0.1)])\n",
    "Rupdate= Rtt.subs([(a,0.1)])\n",
    "ws_sir=[1]\n",
    "Rt_v = 0\n",
    "for t in range(0,79):\n",
    "    ws_sir.append(Wupdate_sir.subs([(Wt,ws_sir[-1:][0]),(Rt,Rt_v)]))\n",
    "    Rt_v = Rupdate.subs([(Wt,ws_sir[-1:][0]),(Rt,Rt_v)])\n",
    "plt.plot(range(0,80),ws_sir)\n",
    "plt.ylabel('Number of infected individuals')\n",
    "plt.xlabel('time')\n",
    "plt.title('Diffusion of infection');"
   ]
  },
  {
   "cell_type": "markdown",
   "metadata": {},
   "source": [
    "The following image uses the qualitative conclusions from this model to argue why protective measures during an outbreak (like washing hands, quarantine, canceling events) is heplful. It delays the spread of the disease and reduces the height of the peak. This reduces the risk of overrunning the capacity of the health care system (which, itself, can increase spread) and giving it more time to prepare. \n",
    "\n",
    "![The value of protective measures](https://pbs.twimg.com/media/ESas8tHVAAAhr_I?format=jpg&name=4096x4096)\n",
    "\n",
    "See the [following thread](https://twitter.com/CT_Bergstrom/status/1235865328074153986) for discussion."
   ]
  },
  {
   "cell_type": "code",
   "execution_count": 33,
   "metadata": {},
   "outputs": [
    {
     "data": {
      "image/png": "[encoded data removed]",
      "text/plain": [
       "<Figure size 432x288 with 1 Axes>"
      ]
     },
     "metadata": {
      "needs_background": "light"
     },
     "output_type": "display_data"
    }
   ],
   "source": [
    "Wtt_sir,Penc1 = sm.symbols('Wtt_sir,Penc1',cls=sm.Function)\n",
    "Penc1= (Wt/N)*((N - Rt - Wt)/N)\n",
    "Wtt_sir=N*c*Penc1*tau + Wt - a*Wt\n",
    "Wupdate_sir=Wtt_sir.subs([(N,100),(tau,0.5),(c,0.5),(a,0.1)])\n",
    "Rupdate= Rtt.subs([(a,0.1)])\n",
    "ws_sir=[1]\n",
    "Rt_v = 0\n",
    "for t in range(0,149):\n",
    "    ws_sir.append(Wupdate_sir.subs([(Wt,ws_sir[-1:][0]),(Rt,Rt_v)]))\n",
    "    Rt_v = Rupdate.subs([(Wt,ws_sir[-1:][0]),(Rt,Rt_v)])\n",
    "#plt.plot(range(0,80),ws_sir)\n",
    "#plt.ylabel('Number of infected individuals')\n",
    "#plt.xlabel('time')\n",
    "#plt.title('Diffusion of infection')\n",
    "\n",
    "Wtt_sir2,Penc2 = sm.symbols('Wtt_sir2,Penc2',cls=sm.Function)\n",
    "Penc2= (Wt/N)*((N - Rt - Wt)/N) * 0.80\n",
    "Wtt_sir2=N*c*Penc2*tau + Wt - a*Wt\n",
    "Wupdate_sir2=Wtt_sir2.subs([(N,100),(tau,0.5),(c,0.5),(a,0.1)])\n",
    "\n",
    "ws_sir2=[1]\n",
    "Rt_v = 0\n",
    "for t in range(0,149):\n",
    "    ws_sir2.append(Wupdate_sir2.subs([(Wt,ws_sir2[-1:][0]),(Rt,Rt_v)]))\n",
    "    Rt_v = Rupdate.subs([(Wt,ws_sir2[-1:][0]),(Rt,Rt_v)])\n",
    "plt.plot(range(0,150),ws_sir)\n",
    "plt.plot(range(0,150),ws_sir2)\n",
    "plt.gca().get_lines()[1].set_label('20% social distancing')\n",
    "plt.plot((0,140),(16,16),color='k',linestyle=':')\n",
    "plt.text(0,17,\"healthcare system capacity\")\n",
    "plt.ylabel('Number of infected individuals')\n",
    "plt.xlabel('time')\n",
    "plt.title('Diffusion of infection')\n",
    "plt.legend();"
   ]
  },
  {
   "cell_type": "markdown",
   "metadata": {},
   "source": [
    "Our next two steps are for better communicating the results of the model. We first show how to make the graph interactive, so the user can change the degree of social isolation and see the effects. Next we create a gif animation showing how the spread of the epidemic changes as social isolation measures are increased. This gif can then be posted to social media, for example."
   ]
  },
  {
   "cell_type": "code",
   "execution_count": 45,
   "metadata": {},
   "outputs": [
    {
     "data": {
      "application/vnd.jupyter.widget-view+json": {
       "model_id": "423633d66eb6434fb47023d5be891126",
       "version_major": 2,
       "version_minor": 0
      },
      "text/plain": [
       "interactive(children=(FloatSlider(value=0.8, description='percent', max=1.0), Output()), _dom_classes=('widget…"
      ]
     },
     "metadata": {},
     "output_type": "display_data"
    }
   ],
   "source": [
    "import ipywidgets as widgets\n",
    "from ipywidgets import interact, interact_manual\n",
    "\n",
    "@interact(percent=(0.,1.))\n",
    "def compare(percent=0.8):\n",
    "    Wtt_sir,Penc1 = sm.symbols('Wtt_sir,Penc1',cls=sm.Function)\n",
    "    Penc1= (Wt/N)*((N - Rt - Wt)/N)\n",
    "    Wtt_sir=N*c*Penc1*tau + Wt - a*Wt\n",
    "    Wupdate_sir=Wtt_sir.subs([(N,100),(tau,0.5),(c,0.5),(a,0.1)])\n",
    "    Rupdate= Rtt.subs([(a,0.1)])\n",
    "    ws_sir=[1]\n",
    "    Rt_v = 0\n",
    "    for t in range(0,149):\n",
    "        ws_sir.append(Wupdate_sir.subs([(Wt,ws_sir[-1:][0]),(Rt,Rt_v)]))\n",
    "        Rt_v = Rupdate.subs([(Wt,ws_sir[-1:][0]),(Rt,Rt_v)])\n",
    "    #plt.plot(range(0,80),ws_sir)\n",
    "    #plt.ylabel('Number of infected individuals')\n",
    "    #plt.xlabel('time')\n",
    "    #plt.title('Diffusion of infection')\n",
    "\n",
    "    Wtt_sir2,Penc2 = sm.symbols('Wtt_sir2,Penc2',cls=sm.Function)\n",
    "    Penc2= (Wt/N)*((N - Rt - Wt)/N) * percent\n",
    "    Wtt_sir2=N*c*Penc2*tau + Wt - a*Wt\n",
    "    Wupdate_sir2=Wtt_sir2.subs([(N,100),(tau,0.5),(c,0.5),(a,0.1)])\n",
    "\n",
    "    ws_sir2=[1]\n",
    "    Rt_v = 0\n",
    "    for t in range(0,149):\n",
    "        ws_sir2.append(Wupdate_sir2.subs([(Wt,ws_sir2[-1:][0]),(Rt,Rt_v)]))\n",
    "        Rt_v = Rupdate.subs([(Wt,ws_sir2[-1:][0]),(Rt,Rt_v)])\n",
    "    plt.plot(range(0,150),ws_sir)\n",
    "    plt.plot(range(0,150),ws_sir2)\n",
    "    plt.gca().get_lines()[1].set_label('{:.2f} social distancing'.format(1-percent))\n",
    "    plt.plot((0,140),(16,16),color='k',linestyle=':')\n",
    "    plt.text(0,17,\"healthcare system capacity\")\n",
    "    plt.ylabel('Number of infected individuals')\n",
    "    plt.xlabel('time')\n",
    "    plt.title('Diffusion of infection')\n",
    "    plt.legend()"
   ]
  },
  {
   "cell_type": "code",
   "execution_count": 46,
   "metadata": {},
   "outputs": [],
   "source": [
    "import gif"
   ]
  },
  {
   "cell_type": "code",
   "execution_count": 47,
   "metadata": {},
   "outputs": [],
   "source": [
    "@gif.frame \n",
    "def compare(percent=0.8):\n",
    "    Wtt_sir,Penc1 = sm.symbols('Wtt_sir,Penc1',cls=sm.Function)\n",
    "    Penc1= (Wt/N)*((N - Rt - Wt)/N)\n",
    "    Wtt_sir=N*c*Penc1*tau + Wt - a*Wt\n",
    "    Wupdate_sir=Wtt_sir.subs([(N,100),(tau,0.5),(c,0.5),(a,0.1)])\n",
    "    Rupdate= Rtt.subs([(a,0.1)])\n",
    "    ws_sir=[1]\n",
    "    Rt_v = 0\n",
    "    for t in range(0,149):\n",
    "        ws_sir.append(Wupdate_sir.subs([(Wt,ws_sir[-1:][0]),(Rt,Rt_v)]))\n",
    "        Rt_v = Rupdate.subs([(Wt,ws_sir[-1:][0]),(Rt,Rt_v)])\n",
    "    #plt.plot(range(0,80),ws_sir)\n",
    "    #plt.ylabel('Number of infected individuals')\n",
    "    #plt.xlabel('time')\n",
    "    #plt.title('Diffusion of infection')\n",
    "\n",
    "    Wtt_sir2,Penc2 = sm.symbols('Wtt_sir2,Penc2',cls=sm.Function)\n",
    "    Penc2= (Wt/N)*((N - Rt - Wt)/N) * percent\n",
    "    Wtt_sir2=N*c*Penc2*tau + Wt - a*Wt\n",
    "    Wupdate_sir2=Wtt_sir2.subs([(N,100),(tau,0.5),(c,0.5),(a,0.1)])\n",
    "\n",
    "    ws_sir2=[1]\n",
    "    Rt_v = 0\n",
    "    for t in range(0,149):\n",
    "        ws_sir2.append(Wupdate_sir2.subs([(Wt,ws_sir2[-1:][0]),(Rt,Rt_v)]))\n",
    "        Rt_v = Rupdate.subs([(Wt,ws_sir2[-1:][0]),(Rt,Rt_v)])\n",
    "    plt.plot(range(0,150),ws_sir)\n",
    "    plt.plot(range(0,150),ws_sir2)\n",
    "    plt.gca().get_lines()[1].set_label('{:.2f} social distancing'.format(1-percent))\n",
    "    plt.plot((0,140),(16,16),color='k',linestyle=':')\n",
    "    plt.text(0,17,\"healthcare system capacity\")\n",
    "    plt.ylabel('Number of infected individuals')\n",
    "    plt.xlabel('time')\n",
    "    plt.title('Diffusion of infection')\n",
    "    plt.legend()"
   ]
  },
  {
   "cell_type": "code",
   "execution_count": 55,
   "metadata": {},
   "outputs": [],
   "source": [
    "frames = []\n",
    "for p in range(11):\n",
    "    frame=compare(1 - 0.1*p)\n",
    "    frames.append(frame)"
   ]
  },
  {
   "cell_type": "code",
   "execution_count": 56,
   "metadata": {},
   "outputs": [],
   "source": [
    "gif.save(frames, \"contagion.gif\", duration=350)"
   ]
  },
  {
   "cell_type": "code",
   "execution_count": null,
   "metadata": {},
   "outputs": [],
   "source": []
  }
 ],
 "metadata": {
  "kernelspec": {
   "display_name": "Python 3",
   "language": "python",
   "name": "python3"
  },
  "language_info": {
   "codemirror_mode": {
    "name": "ipython",
    "version": 3
   },
   "file_extension": ".py",
   "mimetype": "text/x-python",
   "name": "python",
   "nbconvert_exporter": "python",
   "pygments_lexer": "ipython3",
   "version": "3.6.8"
  }
 },
 "nbformat": 4,
 "nbformat_minor": 1
}
