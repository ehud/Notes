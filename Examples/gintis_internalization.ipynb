{
  "nbformat": 4,
  "nbformat_minor": 0,
  "metadata": {
    "colab": {
      "name": "gintis_internalization",
      "provenance": [],
      "collapsed_sections": []
    },
    "kernelspec": {
      "name": "python3",
      "display_name": "Python 3"
    }
  },
  "cells": [
    {
      "cell_type": "markdown",
      "metadata": {
        "id": "HKBNw6MpWnHe",
        "colab_type": "text"
      },
      "source": [
        "Written by Udi Aharoni  \n",
        "Based on \"The Hitchhiker’s Guide to Altruism: Gene-culture Coevolution, and the Internalization of Norms\" Herbert Gintis"
      ]
    },
    {
      "cell_type": "markdown",
      "metadata": {
        "id": "kqdcUKWjLFqX",
        "colab_type": "text"
      },
      "source": [
        "Create basic variables:"
      ]
    },
    {
      "cell_type": "code",
      "metadata": {
        "id": "gPjRT3T9K9pP",
        "colab_type": "code",
        "colab": {}
      },
      "source": [
        "from  sympy import *\n",
        "\n",
        "# system params\n",
        "u, t, gamma= symbols(\"u t gamma\")\n",
        "\n",
        "# current generation\n",
        "p_aac, p_aad, p_abc, p_abd, p_bbd= symbols(\"p_aac p_aad p_abc p_abd p_bbd\")"
      ],
      "execution_count": null,
      "outputs": []
    },
    {
      "cell_type": "markdown",
      "metadata": {
        "id": "vLE1GqdoLRFu",
        "colab_type": "text"
      },
      "source": [
        "Fitness, and other simple derived variables:"
      ]
    },
    {
      "cell_type": "code",
      "metadata": {
        "id": "9qcwBi9fLKdP",
        "colab_type": "code",
        "colab": {}
      },
      "source": [
        "p_bbd=(1-p_aac-p_aad-p_abc-p_abd)\n",
        "\n",
        "\n",
        "f_aac=p_aac*(1-u)*(1+t)\n",
        "f_abc=p_abc*(1-u)*(1+t)\n",
        "f_aad=p_aad*(1-u)\n",
        "f_abd=p_abd*(1-u)\n",
        "f_bbd=p_bbd\n",
        "\n",
        "f_average=f_aac + f_aad + f_abc +  f_abd + f_bbd\n",
        "\n"
      ],
      "execution_count": null,
      "outputs": []
    },
    {
      "cell_type": "markdown",
      "metadata": {
        "id": "UxmqWstvL2jI",
        "colab_type": "text"
      },
      "source": [
        " Place them in a dictonary for easy access later:"
      ]
    },
    {
      "cell_type": "code",
      "metadata": {
        "id": "YFY_oA8uMS4V",
        "colab_type": "code",
        "colab": {
          "base_uri": "https://localhost:8080/",
          "height": 102
        },
        "outputId": "3d08a310-b580-44ef-9b2e-061d8bdc992c"
      },
      "source": [
        "adultP={\n",
        "    \"aaC\": f_aac,\n",
        "     \"abC\": f_abc,\n",
        "     \"aaD\": f_aad,\n",
        "     \"abD\": f_abd,\n",
        "     \"bbD\": f_bbd\n",
        "}\n",
        "\n",
        "def printDictionary(dict):\n",
        "  for x in dict:\n",
        "    print(x,\":\",dict[x])\n",
        "\n",
        "\n",
        "printDictionary(adultP)\n"
      ],
      "execution_count": null,
      "outputs": [
        {
          "output_type": "stream",
          "text": [
            "aaC : p_aac*(t + 1)*(-u + 1)\n",
            "abC : p_abc*(t + 1)*(-u + 1)\n",
            "aaD : p_aad*(-u + 1)\n",
            "abD : p_abd*(-u + 1)\n",
            "bbD : -p_aac - p_aad - p_abc - p_abd + 1\n"
          ],
          "name": "stdout"
        }
      ]
    },
    {
      "cell_type": "markdown",
      "metadata": {
        "id": "YTE3wBNrNVpV",
        "colab_type": "text"
      },
      "source": [
        "Construct families:"
      ]
    },
    {
      "cell_type": "code",
      "metadata": {
        "id": "ul2ffvoeNaNk",
        "colab_type": "code",
        "colab": {
          "base_uri": "https://localhost:8080/",
          "height": 272
        },
        "outputId": "ce894f2e-2ddc-42a5-8214-d75921219445"
      },
      "source": [
        "families={}\n",
        "\n",
        "for m in adultP:  \n",
        "  for f in adultP:\n",
        "\n",
        "    fam=m+f\n",
        "    # as in the paper, sort gene-phenotypes lexicographically in family id\n",
        "    if (f<m):\n",
        "      fam=f+m\n",
        "\n",
        "    prob=adultP[m]*adultP[f]\n",
        "        \n",
        "    if fam in families:\n",
        "      families[fam]=families[fam]+prob\n",
        "    else:\n",
        "      families[fam]=prob\n",
        "\n",
        "printDictionary(families)\n"
      ],
      "execution_count": null,
      "outputs": [
        {
          "output_type": "stream",
          "text": [
            "aaCaaC : p_aac**2*(t + 1)**2*(-u + 1)**2\n",
            "aaCabC : 2*p_aac*p_abc*(t + 1)**2*(-u + 1)**2\n",
            "aaCaaD : 2*p_aac*p_aad*(t + 1)*(-u + 1)**2\n",
            "aaCabD : 2*p_aac*p_abd*(t + 1)*(-u + 1)**2\n",
            "aaCbbD : 2*p_aac*(t + 1)*(-u + 1)*(-p_aac - p_aad - p_abc - p_abd + 1)\n",
            "abCabC : p_abc**2*(t + 1)**2*(-u + 1)**2\n",
            "aaDabC : 2*p_aad*p_abc*(t + 1)*(-u + 1)**2\n",
            "abCabD : 2*p_abc*p_abd*(t + 1)*(-u + 1)**2\n",
            "abCbbD : 2*p_abc*(t + 1)*(-u + 1)*(-p_aac - p_aad - p_abc - p_abd + 1)\n",
            "aaDaaD : p_aad**2*(-u + 1)**2\n",
            "aaDabD : 2*p_aad*p_abd*(-u + 1)**2\n",
            "aaDbbD : 2*p_aad*(-u + 1)*(-p_aac - p_aad - p_abc - p_abd + 1)\n",
            "abDabD : p_abd**2*(-u + 1)**2\n",
            "abDbbD : 2*p_abd*(-u + 1)*(-p_aac - p_aad - p_abc - p_abd + 1)\n",
            "bbDbbD : (-p_aac - p_aad - p_abc - p_abd + 1)**2\n"
          ],
          "name": "stdout"
        }
      ]
    },
    {
      "cell_type": "markdown",
      "metadata": {
        "id": "4Z4eIM-RPnpj",
        "colab_type": "text"
      },
      "source": [
        "Normalization and sanity checks:"
      ]
    },
    {
      "cell_type": "code",
      "metadata": {
        "id": "Z-KLT132PpaK",
        "colab_type": "code",
        "colab": {
          "base_uri": "https://localhost:8080/",
          "height": 51
        },
        "outputId": "fb1d209c-a288-4f7a-95f5-a74eef9fcece"
      },
      "source": [
        "# The normalization factor should be f_average squared:\n",
        "fac=f_average**2\n",
        "\n",
        "# Normalize\n",
        "nfamilies={}\n",
        "for x in families:\n",
        "  nfamilies[x]=families[x]/fac;\n",
        "\n",
        "def assertSum1(dict):    \n",
        "  s=sum(dict.values());  \n",
        "  s=simplify(s)   \n",
        "  print(\"Sum=\",s)  \n",
        "  assert(s==1)  \n",
        "  print (\"Normalization test passed\");\n",
        "\n",
        "assertSum1(nfamilies)"
      ],
      "execution_count": null,
      "outputs": [
        {
          "output_type": "stream",
          "text": [
            "Sum= 1\n",
            "Normalization test passed\n"
          ],
          "name": "stdout"
        }
      ]
    },
    {
      "cell_type": "markdown",
      "metadata": {
        "id": "0YiCIbqtQUyD",
        "colab_type": "text"
      },
      "source": [
        "Construct children frequencies:"
      ]
    },
    {
      "cell_type": "code",
      "metadata": {
        "id": "5HF_ViOZKHek",
        "colab_type": "code",
        "colab": {
          "base_uri": "https://localhost:8080/",
          "height": 122
        },
        "outputId": "2cf8a959-7ec7-4c71-fc22-bee0fef5ad96"
      },
      "source": [
        "\n",
        "p_c=(f_aac+f_abc)/f_average\n",
        "\n",
        "\n",
        "childP={}\n",
        "\n",
        "def addChild(c,prob):\n",
        "  if c in childP:\n",
        "    childP[c]=childP[c]+prob\n",
        "  else:\n",
        "    childP[c]=prob\n",
        "\n",
        "for fam in nfamilies:\n",
        "  famP=nfamilies[fam];\n",
        "  \n",
        "  # choose first alele\n",
        "  for a1 in range(2):\n",
        "    # choose second alele\n",
        "    for a2 in range(2):\n",
        "\n",
        "      # get alleles\n",
        "      aa1=fam[a1]\n",
        "      aa2=fam[3+a2];\n",
        "      # sort them \n",
        "      if (aa2<aa1):\n",
        "        aa1,aa2=aa2,aa1        \n",
        "\n",
        "      # choose phenotype\n",
        "      ps=[fam[2],fam[5]]\n",
        "      all_b= aa1==\"b\" and aa2==\"b\"\n",
        "      if all_b:\n",
        "        ps=[\"D\"]               \n",
        "\n",
        "      for pp in ps:\n",
        "        child=aa1+aa2+pp\n",
        "        prob=famP/4/len(ps)\n",
        "        if ((not all_b) and pp==\"D\"):\n",
        "          probCulture=gamma * p_c\n",
        "          addChild(aa1+aa2+\"C\",prob*probCulture)\n",
        "          addChild(child,prob*(1-probCulture))\n",
        "        else:\n",
        "          addChild(child,prob)\n",
        "  \n",
        "printDictionary(childP)        \n",
        "#assertSum1(childP)\n"
      ],
      "execution_count": null,
      "outputs": [
        {
          "output_type": "stream",
          "text": [
            "aaC : gamma*p_aac*p_aad*(t + 1)*(-u + 1)**2*(p_aac*(t + 1)*(-u + 1) + p_abc*(t + 1)*(-u + 1))/(p_aac*(t + 1)*(-u + 1) - p_aac + p_aad*(-u + 1) - p_aad + p_abc*(t + 1)*(-u + 1) - p_abc + p_abd*(-u + 1) - p_abd + 1)**3 + gamma*p_aac*p_abd*(t + 1)*(-u + 1)**2*(p_aac*(t + 1)*(-u + 1) + p_abc*(t + 1)*(-u + 1))/(2*(p_aac*(t + 1)*(-u + 1) - p_aac + p_aad*(-u + 1) - p_aad + p_abc*(t + 1)*(-u + 1) - p_abc + p_abd*(-u + 1) - p_abd + 1)**3) + gamma*p_aad**2*(-u + 1)**2*(p_aac*(t + 1)*(-u + 1) + p_abc*(t + 1)*(-u + 1))/(p_aac*(t + 1)*(-u + 1) - p_aac + p_aad*(-u + 1) - p_aad + p_abc*(t + 1)*(-u + 1) - p_abc + p_abd*(-u + 1) - p_abd + 1)**3 + gamma*p_aad*p_abc*(t + 1)*(-u + 1)**2*(p_aac*(t + 1)*(-u + 1) + p_abc*(t + 1)*(-u + 1))/(2*(p_aac*(t + 1)*(-u + 1) - p_aac + p_aad*(-u + 1) - p_aad + p_abc*(t + 1)*(-u + 1) - p_abc + p_abd*(-u + 1) - p_abd + 1)**3) + gamma*p_aad*p_abd*(-u + 1)**2*(p_aac*(t + 1)*(-u + 1) + p_abc*(t + 1)*(-u + 1))/(p_aac*(t + 1)*(-u + 1) - p_aac + p_aad*(-u + 1) - p_aad + p_abc*(t + 1)*(-u + 1) - p_abc + p_abd*(-u + 1) - p_abd + 1)**3 + gamma*p_abc*p_abd*(t + 1)*(-u + 1)**2*(p_aac*(t + 1)*(-u + 1) + p_abc*(t + 1)*(-u + 1))/(4*(p_aac*(t + 1)*(-u + 1) - p_aac + p_aad*(-u + 1) - p_aad + p_abc*(t + 1)*(-u + 1) - p_abc + p_abd*(-u + 1) - p_abd + 1)**3) + gamma*p_abd**2*(-u + 1)**2*(p_aac*(t + 1)*(-u + 1) + p_abc*(t + 1)*(-u + 1))/(4*(p_aac*(t + 1)*(-u + 1) - p_aac + p_aad*(-u + 1) - p_aad + p_abc*(t + 1)*(-u + 1) - p_abc + p_abd*(-u + 1) - p_abd + 1)**3) + p_aac**2*(t + 1)**2*(-u + 1)**2/(p_aac*(t + 1)*(-u + 1) - p_aac + p_aad*(-u + 1) - p_aad + p_abc*(t + 1)*(-u + 1) - p_abc + p_abd*(-u + 1) - p_abd + 1)**2 + p_aac*p_aad*(t + 1)*(-u + 1)**2/(p_aac*(t + 1)*(-u + 1) - p_aac + p_aad*(-u + 1) - p_aad + p_abc*(t + 1)*(-u + 1) - p_abc + p_abd*(-u + 1) - p_abd + 1)**2 + p_aac*p_abc*(t + 1)**2*(-u + 1)**2/(p_aac*(t + 1)*(-u + 1) - p_aac + p_aad*(-u + 1) - p_aad + p_abc*(t + 1)*(-u + 1) - p_abc + p_abd*(-u + 1) - p_abd + 1)**2 + p_aac*p_abd*(t + 1)*(-u + 1)**2/(2*(p_aac*(t + 1)*(-u + 1) - p_aac + p_aad*(-u + 1) - p_aad + p_abc*(t + 1)*(-u + 1) - p_abc + p_abd*(-u + 1) - p_abd + 1)**2) + p_aad*p_abc*(t + 1)*(-u + 1)**2/(2*(p_aac*(t + 1)*(-u + 1) - p_aac + p_aad*(-u + 1) - p_aad + p_abc*(t + 1)*(-u + 1) - p_abc + p_abd*(-u + 1) - p_abd + 1)**2) + p_abc**2*(t + 1)**2*(-u + 1)**2/(4*(p_aac*(t + 1)*(-u + 1) - p_aac + p_aad*(-u + 1) - p_aad + p_abc*(t + 1)*(-u + 1) - p_abc + p_abd*(-u + 1) - p_abd + 1)**2) + p_abc*p_abd*(t + 1)*(-u + 1)**2/(4*(p_aac*(t + 1)*(-u + 1) - p_aac + p_aad*(-u + 1) - p_aad + p_abc*(t + 1)*(-u + 1) - p_abc + p_abd*(-u + 1) - p_abd + 1)**2)\n",
            "abC : gamma*p_aac*p_abd*(t + 1)*(-u + 1)**2*(p_aac*(t + 1)*(-u + 1) + p_abc*(t + 1)*(-u + 1))/(2*(p_aac*(t + 1)*(-u + 1) - p_aac + p_aad*(-u + 1) - p_aad + p_abc*(t + 1)*(-u + 1) - p_abc + p_abd*(-u + 1) - p_abd + 1)**3) + gamma*p_aac*(t + 1)*(-u + 1)*(p_aac*(t + 1)*(-u + 1) + p_abc*(t + 1)*(-u + 1))*(-p_aac - p_aad - p_abc - p_abd + 1)/(p_aac*(t + 1)*(-u + 1) - p_aac + p_aad*(-u + 1) - p_aad + p_abc*(t + 1)*(-u + 1) - p_abc + p_abd*(-u + 1) - p_abd + 1)**3 + gamma*p_aad*p_abc*(t + 1)*(-u + 1)**2*(p_aac*(t + 1)*(-u + 1) + p_abc*(t + 1)*(-u + 1))/(2*(p_aac*(t + 1)*(-u + 1) - p_aac + p_aad*(-u + 1) - p_aad + p_abc*(t + 1)*(-u + 1) - p_abc + p_abd*(-u + 1) - p_abd + 1)**3) + gamma*p_aad*p_abd*(-u + 1)**2*(p_aac*(t + 1)*(-u + 1) + p_abc*(t + 1)*(-u + 1))/(p_aac*(t + 1)*(-u + 1) - p_aac + p_aad*(-u + 1) - p_aad + p_abc*(t + 1)*(-u + 1) - p_abc + p_abd*(-u + 1) - p_abd + 1)**3 + 2*gamma*p_aad*(-u + 1)*(p_aac*(t + 1)*(-u + 1) + p_abc*(t + 1)*(-u + 1))*(-p_aac - p_aad - p_abc - p_abd + 1)/(p_aac*(t + 1)*(-u + 1) - p_aac + p_aad*(-u + 1) - p_aad + p_abc*(t + 1)*(-u + 1) - p_abc + p_abd*(-u + 1) - p_abd + 1)**3 + gamma*p_abc*p_abd*(t + 1)*(-u + 1)**2*(p_aac*(t + 1)*(-u + 1) + p_abc*(t + 1)*(-u + 1))/(2*(p_aac*(t + 1)*(-u + 1) - p_aac + p_aad*(-u + 1) - p_aad + p_abc*(t + 1)*(-u + 1) - p_abc + p_abd*(-u + 1) - p_abd + 1)**3) + gamma*p_abc*(t + 1)*(-u + 1)*(p_aac*(t + 1)*(-u + 1) + p_abc*(t + 1)*(-u + 1))*(-p_aac - p_aad - p_abc - p_abd + 1)/(2*(p_aac*(t + 1)*(-u + 1) - p_aac + p_aad*(-u + 1) - p_aad + p_abc*(t + 1)*(-u + 1) - p_abc + p_abd*(-u + 1) - p_abd + 1)**3) + gamma*p_abd**2*(-u + 1)**2*(p_aac*(t + 1)*(-u + 1) + p_abc*(t + 1)*(-u + 1))/(2*(p_aac*(t + 1)*(-u + 1) - p_aac + p_aad*(-u + 1) - p_aad + p_abc*(t + 1)*(-u + 1) - p_abc + p_abd*(-u + 1) - p_abd + 1)**3) + gamma*p_abd*(-u + 1)*(p_aac*(t + 1)*(-u + 1) + p_abc*(t + 1)*(-u + 1))*(-p_aac - p_aad - p_abc - p_abd + 1)/(p_aac*(t + 1)*(-u + 1) - p_aac + p_aad*(-u + 1) - p_aad + p_abc*(t + 1)*(-u + 1) - p_abc + p_abd*(-u + 1) - p_abd + 1)**3 + p_aac*p_abc*(t + 1)**2*(-u + 1)**2/(p_aac*(t + 1)*(-u + 1) - p_aac + p_aad*(-u + 1) - p_aad + p_abc*(t + 1)*(-u + 1) - p_abc + p_abd*(-u + 1) - p_abd + 1)**2 + p_aac*p_abd*(t + 1)*(-u + 1)**2/(2*(p_aac*(t + 1)*(-u + 1) - p_aac + p_aad*(-u + 1) - p_aad + p_abc*(t + 1)*(-u + 1) - p_abc + p_abd*(-u + 1) - p_abd + 1)**2) + p_aac*(t + 1)*(-u + 1)*(-p_aac - p_aad - p_abc - p_abd + 1)/(p_aac*(t + 1)*(-u + 1) - p_aac + p_aad*(-u + 1) - p_aad + p_abc*(t + 1)*(-u + 1) - p_abc + p_abd*(-u + 1) - p_abd + 1)**2 + p_aad*p_abc*(t + 1)*(-u + 1)**2/(2*(p_aac*(t + 1)*(-u + 1) - p_aac + p_aad*(-u + 1) - p_aad + p_abc*(t + 1)*(-u + 1) - p_abc + p_abd*(-u + 1) - p_abd + 1)**2) + p_abc**2*(t + 1)**2*(-u + 1)**2/(2*(p_aac*(t + 1)*(-u + 1) - p_aac + p_aad*(-u + 1) - p_aad + p_abc*(t + 1)*(-u + 1) - p_abc + p_abd*(-u + 1) - p_abd + 1)**2) + p_abc*p_abd*(t + 1)*(-u + 1)**2/(2*(p_aac*(t + 1)*(-u + 1) - p_aac + p_aad*(-u + 1) - p_aad + p_abc*(t + 1)*(-u + 1) - p_abc + p_abd*(-u + 1) - p_abd + 1)**2) + p_abc*(t + 1)*(-u + 1)*(-p_aac - p_aad - p_abc - p_abd + 1)/(2*(p_aac*(t + 1)*(-u + 1) - p_aac + p_aad*(-u + 1) - p_aad + p_abc*(t + 1)*(-u + 1) - p_abc + p_abd*(-u + 1) - p_abd + 1)**2)\n",
            "aaD : p_aac*p_aad*(t + 1)*(-u + 1)**2*(-gamma*(p_aac*(t + 1)*(-u + 1) + p_abc*(t + 1)*(-u + 1))/(p_aac*(t + 1)*(-u + 1) - p_aac + p_aad*(-u + 1) - p_aad + p_abc*(t + 1)*(-u + 1) - p_abc + p_abd*(-u + 1) - p_abd + 1) + 1)/(p_aac*(t + 1)*(-u + 1) - p_aac + p_aad*(-u + 1) - p_aad + p_abc*(t + 1)*(-u + 1) - p_abc + p_abd*(-u + 1) - p_abd + 1)**2 + p_aac*p_abd*(t + 1)*(-u + 1)**2*(-gamma*(p_aac*(t + 1)*(-u + 1) + p_abc*(t + 1)*(-u + 1))/(p_aac*(t + 1)*(-u + 1) - p_aac + p_aad*(-u + 1) - p_aad + p_abc*(t + 1)*(-u + 1) - p_abc + p_abd*(-u + 1) - p_abd + 1) + 1)/(2*(p_aac*(t + 1)*(-u + 1) - p_aac + p_aad*(-u + 1) - p_aad + p_abc*(t + 1)*(-u + 1) - p_abc + p_abd*(-u + 1) - p_abd + 1)**2) + p_aad**2*(-u + 1)**2*(-gamma*(p_aac*(t + 1)*(-u + 1) + p_abc*(t + 1)*(-u + 1))/(p_aac*(t + 1)*(-u + 1) - p_aac + p_aad*(-u + 1) - p_aad + p_abc*(t + 1)*(-u + 1) - p_abc + p_abd*(-u + 1) - p_abd + 1) + 1)/(p_aac*(t + 1)*(-u + 1) - p_aac + p_aad*(-u + 1) - p_aad + p_abc*(t + 1)*(-u + 1) - p_abc + p_abd*(-u + 1) - p_abd + 1)**2 + p_aad*p_abc*(t + 1)*(-u + 1)**2*(-gamma*(p_aac*(t + 1)*(-u + 1) + p_abc*(t + 1)*(-u + 1))/(p_aac*(t + 1)*(-u + 1) - p_aac + p_aad*(-u + 1) - p_aad + p_abc*(t + 1)*(-u + 1) - p_abc + p_abd*(-u + 1) - p_abd + 1) + 1)/(2*(p_aac*(t + 1)*(-u + 1) - p_aac + p_aad*(-u + 1) - p_aad + p_abc*(t + 1)*(-u + 1) - p_abc + p_abd*(-u + 1) - p_abd + 1)**2) + p_aad*p_abd*(-u + 1)**2*(-gamma*(p_aac*(t + 1)*(-u + 1) + p_abc*(t + 1)*(-u + 1))/(p_aac*(t + 1)*(-u + 1) - p_aac + p_aad*(-u + 1) - p_aad + p_abc*(t + 1)*(-u + 1) - p_abc + p_abd*(-u + 1) - p_abd + 1) + 1)/(p_aac*(t + 1)*(-u + 1) - p_aac + p_aad*(-u + 1) - p_aad + p_abc*(t + 1)*(-u + 1) - p_abc + p_abd*(-u + 1) - p_abd + 1)**2 + p_abc*p_abd*(t + 1)*(-u + 1)**2*(-gamma*(p_aac*(t + 1)*(-u + 1) + p_abc*(t + 1)*(-u + 1))/(p_aac*(t + 1)*(-u + 1) - p_aac + p_aad*(-u + 1) - p_aad + p_abc*(t + 1)*(-u + 1) - p_abc + p_abd*(-u + 1) - p_abd + 1) + 1)/(4*(p_aac*(t + 1)*(-u + 1) - p_aac + p_aad*(-u + 1) - p_aad + p_abc*(t + 1)*(-u + 1) - p_abc + p_abd*(-u + 1) - p_abd + 1)**2) + p_abd**2*(-u + 1)**2*(-gamma*(p_aac*(t + 1)*(-u + 1) + p_abc*(t + 1)*(-u + 1))/(p_aac*(t + 1)*(-u + 1) - p_aac + p_aad*(-u + 1) - p_aad + p_abc*(t + 1)*(-u + 1) - p_abc + p_abd*(-u + 1) - p_abd + 1) + 1)/(4*(p_aac*(t + 1)*(-u + 1) - p_aac + p_aad*(-u + 1) - p_aad + p_abc*(t + 1)*(-u + 1) - p_abc + p_abd*(-u + 1) - p_abd + 1)**2)\n",
            "abD : p_aac*p_abd*(t + 1)*(-u + 1)**2*(-gamma*(p_aac*(t + 1)*(-u + 1) + p_abc*(t + 1)*(-u + 1))/(p_aac*(t + 1)*(-u + 1) - p_aac + p_aad*(-u + 1) - p_aad + p_abc*(t + 1)*(-u + 1) - p_abc + p_abd*(-u + 1) - p_abd + 1) + 1)/(2*(p_aac*(t + 1)*(-u + 1) - p_aac + p_aad*(-u + 1) - p_aad + p_abc*(t + 1)*(-u + 1) - p_abc + p_abd*(-u + 1) - p_abd + 1)**2) + p_aac*(t + 1)*(-u + 1)*(-gamma*(p_aac*(t + 1)*(-u + 1) + p_abc*(t + 1)*(-u + 1))/(p_aac*(t + 1)*(-u + 1) - p_aac + p_aad*(-u + 1) - p_aad + p_abc*(t + 1)*(-u + 1) - p_abc + p_abd*(-u + 1) - p_abd + 1) + 1)*(-p_aac - p_aad - p_abc - p_abd + 1)/(p_aac*(t + 1)*(-u + 1) - p_aac + p_aad*(-u + 1) - p_aad + p_abc*(t + 1)*(-u + 1) - p_abc + p_abd*(-u + 1) - p_abd + 1)**2 + p_aad*p_abc*(t + 1)*(-u + 1)**2*(-gamma*(p_aac*(t + 1)*(-u + 1) + p_abc*(t + 1)*(-u + 1))/(p_aac*(t + 1)*(-u + 1) - p_aac + p_aad*(-u + 1) - p_aad + p_abc*(t + 1)*(-u + 1) - p_abc + p_abd*(-u + 1) - p_abd + 1) + 1)/(2*(p_aac*(t + 1)*(-u + 1) - p_aac + p_aad*(-u + 1) - p_aad + p_abc*(t + 1)*(-u + 1) - p_abc + p_abd*(-u + 1) - p_abd + 1)**2) + p_aad*p_abd*(-u + 1)**2*(-gamma*(p_aac*(t + 1)*(-u + 1) + p_abc*(t + 1)*(-u + 1))/(p_aac*(t + 1)*(-u + 1) - p_aac + p_aad*(-u + 1) - p_aad + p_abc*(t + 1)*(-u + 1) - p_abc + p_abd*(-u + 1) - p_abd + 1) + 1)/(p_aac*(t + 1)*(-u + 1) - p_aac + p_aad*(-u + 1) - p_aad + p_abc*(t + 1)*(-u + 1) - p_abc + p_abd*(-u + 1) - p_abd + 1)**2 + 2*p_aad*(-u + 1)*(-gamma*(p_aac*(t + 1)*(-u + 1) + p_abc*(t + 1)*(-u + 1))/(p_aac*(t + 1)*(-u + 1) - p_aac + p_aad*(-u + 1) - p_aad + p_abc*(t + 1)*(-u + 1) - p_abc + p_abd*(-u + 1) - p_abd + 1) + 1)*(-p_aac - p_aad - p_abc - p_abd + 1)/(p_aac*(t + 1)*(-u + 1) - p_aac + p_aad*(-u + 1) - p_aad + p_abc*(t + 1)*(-u + 1) - p_abc + p_abd*(-u + 1) - p_abd + 1)**2 + p_abc*p_abd*(t + 1)*(-u + 1)**2*(-gamma*(p_aac*(t + 1)*(-u + 1) + p_abc*(t + 1)*(-u + 1))/(p_aac*(t + 1)*(-u + 1) - p_aac + p_aad*(-u + 1) - p_aad + p_abc*(t + 1)*(-u + 1) - p_abc + p_abd*(-u + 1) - p_abd + 1) + 1)/(2*(p_aac*(t + 1)*(-u + 1) - p_aac + p_aad*(-u + 1) - p_aad + p_abc*(t + 1)*(-u + 1) - p_abc + p_abd*(-u + 1) - p_abd + 1)**2) + p_abc*(t + 1)*(-u + 1)*(-gamma*(p_aac*(t + 1)*(-u + 1) + p_abc*(t + 1)*(-u + 1))/(p_aac*(t + 1)*(-u + 1) - p_aac + p_aad*(-u + 1) - p_aad + p_abc*(t + 1)*(-u + 1) - p_abc + p_abd*(-u + 1) - p_abd + 1) + 1)*(-p_aac - p_aad - p_abc - p_abd + 1)/(2*(p_aac*(t + 1)*(-u + 1) - p_aac + p_aad*(-u + 1) - p_aad + p_abc*(t + 1)*(-u + 1) - p_abc + p_abd*(-u + 1) - p_abd + 1)**2) + p_abd**2*(-u + 1)**2*(-gamma*(p_aac*(t + 1)*(-u + 1) + p_abc*(t + 1)*(-u + 1))/(p_aac*(t + 1)*(-u + 1) - p_aac + p_aad*(-u + 1) - p_aad + p_abc*(t + 1)*(-u + 1) - p_abc + p_abd*(-u + 1) - p_abd + 1) + 1)/(2*(p_aac*(t + 1)*(-u + 1) - p_aac + p_aad*(-u + 1) - p_aad + p_abc*(t + 1)*(-u + 1) - p_abc + p_abd*(-u + 1) - p_abd + 1)**2) + p_abd*(-u + 1)*(-gamma*(p_aac*(t + 1)*(-u + 1) + p_abc*(t + 1)*(-u + 1))/(p_aac*(t + 1)*(-u + 1) - p_aac + p_aad*(-u + 1) - p_aad + p_abc*(t + 1)*(-u + 1) - p_abc + p_abd*(-u + 1) - p_abd + 1) + 1)*(-p_aac - p_aad - p_abc - p_abd + 1)/(p_aac*(t + 1)*(-u + 1) - p_aac + p_aad*(-u + 1) - p_aad + p_abc*(t + 1)*(-u + 1) - p_abc + p_abd*(-u + 1) - p_abd + 1)**2\n",
            "bbD : p_abc**2*(t + 1)**2*(-u + 1)**2/(4*(p_aac*(t + 1)*(-u + 1) - p_aac + p_aad*(-u + 1) - p_aad + p_abc*(t + 1)*(-u + 1) - p_abc + p_abd*(-u + 1) - p_abd + 1)**2) + p_abc*p_abd*(t + 1)*(-u + 1)**2/(2*(p_aac*(t + 1)*(-u + 1) - p_aac + p_aad*(-u + 1) - p_aad + p_abc*(t + 1)*(-u + 1) - p_abc + p_abd*(-u + 1) - p_abd + 1)**2) + p_abc*(t + 1)*(-u + 1)*(-p_aac - p_aad - p_abc - p_abd + 1)/(p_aac*(t + 1)*(-u + 1) - p_aac + p_aad*(-u + 1) - p_aad + p_abc*(t + 1)*(-u + 1) - p_abc + p_abd*(-u + 1) - p_abd + 1)**2 + p_abd**2*(-u + 1)**2/(4*(p_aac*(t + 1)*(-u + 1) - p_aac + p_aad*(-u + 1) - p_aad + p_abc*(t + 1)*(-u + 1) - p_abc + p_abd*(-u + 1) - p_abd + 1)**2) + p_abd*(-u + 1)*(-p_aac - p_aad - p_abc - p_abd + 1)/(p_aac*(t + 1)*(-u + 1) - p_aac + p_aad*(-u + 1) - p_aad + p_abc*(t + 1)*(-u + 1) - p_abc + p_abd*(-u + 1) - p_abd + 1)**2 + (-p_aac - p_aad - p_abc - p_abd + 1)**2/(p_aac*(t + 1)*(-u + 1) - p_aac + p_aad*(-u + 1) - p_aad + p_abc*(t + 1)*(-u + 1) - p_abc + p_abd*(-u + 1) - p_abd + 1)**2\n"
          ],
          "name": "stdout"
        }
      ]
    },
    {
      "cell_type": "markdown",
      "metadata": {
        "id": "Q1BwMQ5wpsdr",
        "colab_type": "text"
      },
      "source": [
        "Build Jacobian matrix"
      ]
    },
    {
      "cell_type": "code",
      "metadata": {
        "id": "3fPdLBEhpvZh",
        "colab_type": "code",
        "colab": {}
      },
      "source": [
        "vars1=[p_aac, p_aad, p_abc, p_abd]\n",
        "vars2=[childP[\"aaC\"],childP[\"aaD\"],childP[\"abC\"],childP[\"abD\"]]\n",
        "n=len(vars1)\n",
        "J=zeros(n,n)\n",
        "for i in range(n):\n",
        "  for j in range(n):\n",
        "    J[i,j]=diff(vars2[i],vars1[j])\n",
        "\n",
        "\n"
      ],
      "execution_count": null,
      "outputs": []
    },
    {
      "cell_type": "markdown",
      "metadata": {
        "id": "9g3BnMuUrU3y",
        "colab_type": "text"
      },
      "source": [
        "Solve for specific cases"
      ]
    },
    {
      "cell_type": "code",
      "metadata": {
        "id": "vyWGXa5_X7XZ",
        "colab_type": "code",
        "colab": {
          "base_uri": "https://localhost:8080/",
          "height": 255
        },
        "outputId": "1c5db70d-3181-4475-e62b-bc59c94640d3"
      },
      "source": [
        "def solveJ(title,distr):\n",
        "  n=len(distr)\n",
        "  subList=[(vars1[i],distr[i]) for i in range(n)]\n",
        "  #print(subList)\n",
        "\n",
        "  newJ=zeros(n,n)\n",
        "  for i in range(n):\n",
        "    for j in range(n):\n",
        "      newJ[i,j]=J[i,j].subs(subList)\n",
        "\n",
        "  ev=newJ.eigenvals()\n",
        "  print(\"Solution for: \",title)\n",
        "  for x in ev:\n",
        "    print(\"\\tEigenval:\",x,\"\\t\\t\\tmultiplicity:\",ev[x])\n",
        "  #print(ev)\n",
        "#  print(newJ)\n",
        "\n",
        "solveJ(\"pure aaC\",[1,0,0,0])\n",
        "solveJ(\"pure aaD\",[0,1,0,0])\n",
        "solveJ(\"pure bbD\",[0,0,0,0])"
      ],
      "execution_count": null,
      "outputs": [
        {
          "output_type": "stream",
          "text": [
            "Solution for:  pure aaC\n",
            "\tEigenval: 1 \t\t\tmultiplicity: 1\n",
            "\tEigenval: -(gamma - 1)/(t + 1) \t\t\tmultiplicity: 1\n",
            "\tEigenval: -(gamma - 1)/(2*t + 2) \t\t\tmultiplicity: 1\n",
            "\tEigenval: 0 \t\t\tmultiplicity: 1\n",
            "Solution for:  pure aaD\n",
            "\tEigenval: 1 \t\t\tmultiplicity: 1\n",
            "\tEigenval: t/2 + 1/2 \t\t\tmultiplicity: 1\n",
            "\tEigenval: gamma*t + gamma + t + 1 \t\t\tmultiplicity: 1\n",
            "\tEigenval: 0 \t\t\tmultiplicity: 1\n",
            "Solution for:  pure bbD\n",
            "\tEigenval: -u + 1 \t\t\tmultiplicity: 1\n",
            "\tEigenval: -t*u/2 + t/2 - u/2 + 1/2 \t\t\tmultiplicity: 1\n",
            "\tEigenval: 0 \t\t\tmultiplicity: 2\n"
          ],
          "name": "stdout"
        }
      ]
    }
  ]
}