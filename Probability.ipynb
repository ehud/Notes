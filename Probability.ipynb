{
 "cells": [
  {
   "cell_type": "code",
   "execution_count": 6,
   "metadata": {},
   "outputs": [
    {
     "name": "stdout",
     "output_type": "stream",
     "text": [
      "Using matplotlib backend: Qt5Agg\n",
      "Populating the interactive namespace from numpy and matplotlib\n"
     ]
    }
   ],
   "source": [
    "%pylab \n",
    "%matplotlib inline\n",
    "import matplotlib.pyplot as plt"
   ]
  },
  {
   "cell_type": "markdown",
   "metadata": {},
   "source": [
    "# What do probability statements *mean*?\n",
    "\n",
    "Suppose say we have a \"fair\" coin. What does the satement \"the probability of it landing heads is 0.5\" mean? \n",
    "\n",
    "Intuitively, we tend to explain this in terms of frequency. Let's see how this may play out.\n",
    "\n",
    "Note: We represent the results of flipping the coin as 0 and 1, and use Python's randint() function to simulate coin flipping. "
   ]
  },
  {
   "cell_type": "code",
   "execution_count": 7,
   "metadata": {},
   "outputs": [
    {
     "data": {
      "image/png": "[encoded data removed]",
      "text/latex": [
       "$$\\left [ 1, \\quad 1, \\quad 0, \\quad 1, \\quad 1\\right ]$$"
      ],
      "text/plain": [
       "[1, 1, 0, 1, 1]"
      ]
     },
     "execution_count": 7,
     "metadata": {},
     "output_type": "execute_result"
    }
   ],
   "source": [
    "[randint(2) for x in range(5)]"
   ]
  },
  {
   "cell_type": "code",
   "execution_count": 8,
   "metadata": {},
   "outputs": [
    {
     "name": "stdout",
     "output_type": "stream",
     "text": [
      "[0, 0, 1, 1, 0, 0, 0, 1, 0, 1]\n",
      "4\n",
      "4\n"
     ]
    },
    {
     "data": {
      "image/png": "[encoded data removed]",
      "text/plain": [
       "<Figure size 432x288 with 1 Axes>"
      ]
     },
     "metadata": {},
     "output_type": "display_data"
    }
   ],
   "source": [
    "run = 10\n",
    "experiment = [randint(2) for x in range(run)]\n",
    "print experiment\n",
    "print sum(experiment)\n",
    "print experiment.count(1)\n",
    "plt.plot(range(run),experiment,'ro')\n",
    "plt.axis([0,run-1,-1,2]);"
   ]
  },
  {
   "cell_type": "markdown",
   "metadata": {},
   "source": [
    "Let's check how the total number of heads is distributed. We will toss the coin 100 times, and repeast the experiment 1000 times."
   ]
  },
  {
   "cell_type": "code",
   "execution_count": 9,
   "metadata": {},
   "outputs": [
    {
     "data": {
      "image/png": "[encoded data removed]",
      "text/plain": [
       "<Figure size 432x288 with 1 Axes>"
      ]
     },
     "metadata": {},
     "output_type": "display_data"
    }
   ],
   "source": [
    "tosses = 100\n",
    "trials = 1000\n",
    "tests = [[randint(2) for _ in range(tosses)].count(0) for _ in range(trials)]\n",
    "plt.hist(tests,bins=tosses,range=[0,tosses]);"
   ]
  },
  {
   "cell_type": "markdown",
   "metadata": {},
   "source": [
    "Studying these trends we may want to look at prefixes of each trial of coing tossings."
   ]
  },
  {
   "cell_type": "code",
   "execution_count": 10,
   "metadata": {},
   "outputs": [],
   "source": [
    "def prefixes(lst):\n",
    "    return [lst[:i] for i in range(1,len(lst)-1)]"
   ]
  },
  {
   "cell_type": "code",
   "execution_count": 11,
   "metadata": {},
   "outputs": [
    {
     "data": {
      "image/png": "[encoded data removed]",
      "text/latex": [
       "$$\\left [ \\left [ 1\\right ], \\quad \\left [ 1, \\quad 0\\right ], \\quad \\left [ 1, \\quad 0, \\quad 1\\right ], \\quad \\left [ 1, \\quad 0, \\quad 1, \\quad 1\\right ], \\quad \\left [ 1, \\quad 0, \\quad 1, \\quad 1, \\quad 1\\right ], \\quad \\left [ 1, \\quad 0, \\quad 1, \\quad 1, \\quad 1, \\quad 1\\right ], \\quad \\left [ 1, \\quad 0, \\quad 1, \\quad 1, \\quad 1, \\quad 1, \\quad 0\\right ], \\quad \\left [ 1, \\quad 0, \\quad 1, \\quad 1, \\quad 1, \\quad 1, \\quad 0, \\quad 1\\right ]\\right ]$$"
      ],
      "text/plain": [
       "[[1], [1, 0], [1, 0, 1], [1, 0, 1, 1], [1, 0, 1, 1, 1], [1, 0, 1, 1, 1, 1], [1\n",
       ", 0, 1, 1, 1, 1, 0], [1, 0, 1, 1, 1, 1, 0, 1]]"
      ]
     },
     "execution_count": 11,
     "metadata": {},
     "output_type": "execute_result"
    }
   ],
   "source": [
    "tosses=10\n",
    "tests = [randint(2) for _ in range(tosses)]\n",
    "prefixes(tests)"
   ]
  },
  {
   "cell_type": "markdown",
   "metadata": {},
   "source": [
    "The number of zeros increases, of course, as the trial proceeds. But we are after their frequency."
   ]
  },
  {
   "cell_type": "code",
   "execution_count": 12,
   "metadata": {},
   "outputs": [
    {
     "data": {
      "image/png": "[encoded data removed]",
      "text/latex": [
       "$$\\left [ 0, \\quad 1, \\quad 1, \\quad 1, \\quad 1, \\quad 1, \\quad 2, \\quad 2\\right ]$$"
      ],
      "text/plain": [
       "[0, 1, 1, 1, 1, 1, 2, 2]"
      ]
     },
     "execution_count": 12,
     "metadata": {},
     "output_type": "execute_result"
    }
   ],
   "source": [
    "[x.count(0) for x in prefixes(tests)]"
   ]
  },
  {
   "cell_type": "code",
   "execution_count": 13,
   "metadata": {},
   "outputs": [
    {
     "data": {
      "image/png": "[encoded data removed]",
      "text/plain": [
       "<Figure size 432x288 with 1 Axes>"
      ]
     },
     "metadata": {},
     "output_type": "display_data"
    }
   ],
   "source": [
    "tosses=100\n",
    "tests = [randint(2) for _ in range(tosses)]\n",
    "plot([x.count(0)/float(len(x)) for x in prefixes(tests)]);"
   ]
  },
  {
   "cell_type": "markdown",
   "metadata": {},
   "source": [
    "The empirical result seems to converge to around 1/2, but 100 trials do not seem to be enough to get very close.\n",
    "\n",
    "It is also natural to wonder if all four *pairs* of tosses are equally likely:"
   ]
  },
  {
   "cell_type": "code",
   "execution_count": 14,
   "metadata": {},
   "outputs": [],
   "source": [
    "def pairs(lst):\n",
    "    for i in range(len(lst)-1):\n",
    "        yield lst[i:i+2]"
   ]
  },
  {
   "cell_type": "code",
   "execution_count": 15,
   "metadata": {},
   "outputs": [
    {
     "name": "stdout",
     "output_type": "stream",
     "text": [
      "[1, 0, 0]\n",
      "[[1, 0], [0, 0]]\n"
     ]
    }
   ],
   "source": [
    "tosses=3\n",
    "tests = [randint(2) for _ in range(tosses)]\n",
    "print tests\n",
    "print list(pairs(tests))"
   ]
  },
  {
   "cell_type": "code",
   "execution_count": 16,
   "metadata": {},
   "outputs": [
    {
     "name": "stdout",
     "output_type": "stream",
     "text": [
      "99 24.75\n"
     ]
    },
    {
     "data": {
      "text/plain": [
       "{'[0, 0]': 16, '[0, 1]': 22, '[1, 0]': 23, '[1, 1]': 38}"
      ]
     },
     "execution_count": 16,
     "metadata": {},
     "output_type": "execute_result"
    }
   ],
   "source": [
    "tosses=100\n",
    "tests = [randint(2) for _ in range(tosses)]\n",
    "pairs_count = {'[0, 0]':0,'[0, 1]':0,'[1, 0]':0,'[1, 1]':0}\n",
    "for p in pairs(tests):\n",
    "    pairs_count[str(p)]+=1\n",
    "print sum(pairs_count.values()),sum(pairs_count.values())/4.0\n",
    "pairs_count"
   ]
  },
  {
   "cell_type": "code",
   "execution_count": 17,
   "metadata": {},
   "outputs": [
    {
     "data": {
      "image/png": "[encoded data removed]",
      "text/plain": [
       "<Figure size 432x288 with 1 Axes>"
      ]
     },
     "metadata": {},
     "output_type": "display_data"
    }
   ],
   "source": [
    "plt.bar(range(len(pairs_count)),pairs_count.values(),align=\"center\")\n",
    "plt.xticks(range(len(pairs_count)),pairs_count.keys());\n",
    "avg=sum(pairs_count.values())/4.0\n",
    "plt.plot([0,3],[avg,avg],'r--');"
   ]
  },
  {
   "cell_type": "markdown",
   "metadata": {},
   "source": [
    "Here, too, we find what seems like a large deviation from average value of 24.75. \n",
    "\n",
    "Last, we check *when* the first 0 occurs in each trial."
   ]
  },
  {
   "cell_type": "code",
   "execution_count": 18,
   "metadata": {},
   "outputs": [
    {
     "name": "stdout",
     "output_type": "stream",
     "text": [
      "[1, 1, 3, 1, 1, 1, 1, 1, 4, 1, 1, 1, 4, 1, 1, 1, 3, 1, 5, 1, 1, 4, 1, 2, 2, 1, 1, 1, 1, 1]\n"
     ]
    }
   ],
   "source": [
    "tosses =  20\n",
    "trials = 30\n",
    "tests = [[randint(2) for _ in range(tosses)] for _ in range(trials)]\n",
    "print [x.index(0)+1 for x in tests]"
   ]
  },
  {
   "cell_type": "markdown",
   "metadata": {},
   "source": [
    "Let's just say that frequency is better in theory than in practice... Or maybe as an ideal scenario for understanding the kind of probability statement we discussed so far. But, even in theory the frequency intepretation has its issues. Consider:\n",
    "\n",
    "(1) The probability that it will rain Tueday is 85%.\n",
    "(2) The probability that next toss will be heads is 0.5.\n",
    "\n",
    "Clearly it will either rain or not! It's not \"in between\". Moreover, how can such a statement be intereted in terms of frequencies? This problem (which easily generalizes) is called the problem of single case probabilities.\n",
    "\n",
    "Which leads to the alternative interpretation of probabilities as \"degrees of belief\". But before moving to that, I quickly mention that our frquency experiments can also be understood as stemming from something more fundamental. They seem to try to capture the idea that the tosses are independent of one another (think of the experiment concerning the frequcny of pairs), and indeed that the tosses are identically distributed. The idea that absent any reason to favor some options over others the probability is equally divided among all possibilites underlies what is commonly referred to as the **classical interpretation** of probability.  It is summarized definitevely by Pierre-Simon Laplace in 1814:\n",
    "\n",
    ">The theory of chance consists in reducing all the events of the same kind to a certain number of cases equally possible, that is to say, to such as we may be equally undecided about in regard to their existence, and in determining the number of cases favorable to the event whose probability is sought. The ratio of this number to that of all the cases possible is the measure of this probability, which is thus simply a fraction whose numerator is the number of favorable cases and whose denominator is the number of all the cases possible. \n",
    "\n",
    "This alows us to do nifty probability calculations simply by counting the relevant cases. I am not going to elaborate since there is an inspiring executable introduction to how this is done from Peter Norvig: [A Concrete Introduction to Probability (using Python)](http://nbviewer.jupyter.org/url/norvig.com/ipython/Probability.ipynb).\n",
    "\n",
    "What is key for us is that the classical interpretation relies the *principle of indifference* according to which absent any evidence probability should be distributed evenly. This seems to underlie our intuition that the probability of heads is 1/2. However, this seems to require further argument, since -- as critics have pointed out -- it seems that we deduce knowledge about the probability out of our very ignorance! (More on this in the further reading.)\n",
    "\n",
    "## Summary of probabilities\n",
    "\n",
    "\n",
    "$P(A) \\in [0,1]$\n",
    "\n",
    "$P(not A) = 1-P(A)$\n",
    "\n",
    "$P(A \\cup B) = P(A)+P(B) - P(A \\cap B)$  ($\\cup$ is set union, you can think of it as \"OR\")\n",
    "\n",
    "$P(A \\cap B) = P(A)P(B)$ if A and B are independent ($\\cap$ is set intersction, you can think of it  as \"AND\")\n",
    "\n",
    "$P(A | B)$ = $P(A \\cap B) \\over P(B)$ (this is _conditional probability_: the probability of A given that B)\n",
    "\n",
    "\n",
    "$P(A \\cap B) = P(A|B)P(B) = P(B|A)P(A)$\n",
    "\n",
    "\n",
    "\n",
    "## Bayes\n",
    "\n",
    "This difficult suggests we return to the idea already hinted at: interpreting probability subjectively, as the degrees of belief an agent has. This is typically cashed out in terms of betting (the classic formulation comming from de Finetti (1980)). It amounts to the following claim:\n",
    "\n",
    "> Your degree of belief in E is p iff p units of utility is the price at which you would buy or sell a bet that pays 1 unit of utility if E, 0 if not E.\n",
    "\n",
    "It can be easily proved that  if the the bettor's assignment of probabilties does not follow the axioms of probability they can be driven bankrupt. To be coherent (which seems to be at least necessary for rationality), agents must conform to laws of probability. "
   ]
  },
  {
   "cell_type": "code",
   "execution_count": 19,
   "metadata": {},
   "outputs": [],
   "source": [
    "import sympy as sm\n",
    "sm.init_printing()\n",
    "from sympy.abc import  a, b\n",
    "Pa,Pb, Pa_b,Pb_a = sm.symbols('Pa,Pb,Pa_b,Pb_a',cls=sm.Symbol)\n",
    "Pab, Pba = sm.symbols('Pab,Pba',cls=sm.Function)"
   ]
  },
  {
   "cell_type": "code",
   "execution_count": 20,
   "metadata": {},
   "outputs": [
    {
     "data": {
      "image/png": "[encoded data removed]",
      "text/latex": [
       "$$Pa Pb_{a}$$"
      ],
      "text/plain": [
       "Pa⋅Pbₐ"
      ]
     },
     "execution_count": 20,
     "metadata": {},
     "output_type": "execute_result"
    }
   ],
   "source": [
    "Pab = Pa*Pb_a\n",
    "Pab"
   ]
  },
  {
   "cell_type": "code",
   "execution_count": 21,
   "metadata": {},
   "outputs": [
    {
     "data": {
      "image/png": "[encoded data removed]",
      "text/latex": [
       "$$Pa_{b} Pb$$"
      ],
      "text/plain": [
       "Pa_b⋅Pb"
      ]
     },
     "execution_count": 21,
     "metadata": {},
     "output_type": "execute_result"
    }
   ],
   "source": [
    "Pba = Pb*Pa_b\n",
    "Pba"
   ]
  },
  {
   "cell_type": "markdown",
   "metadata": {},
   "source": [
    "Since Pab and Pba are equal (A&B is the same as B&A), we equate them and solve of Pa_b (probability of A given B)."
   ]
  },
  {
   "cell_type": "code",
   "execution_count": 22,
   "metadata": {},
   "outputs": [
    {
     "data": {
      "image/png": "[encoded data removed]",
      "text/latex": [
       "$$\\left [ \\frac{Pa Pb_{a}}{Pb}\\right ]$$"
      ],
      "text/plain": [
       "⎡Pa⋅Pbₐ⎤\n",
       "⎢──────⎥\n",
       "⎣  Pb  ⎦"
      ]
     },
     "execution_count": 22,
     "metadata": {},
     "output_type": "execute_result"
    }
   ],
   "source": [
    "sm.solve(Pab-Pba,Pa_b)"
   ]
  },
  {
   "cell_type": "markdown",
   "metadata": {},
   "source": [
    "This derivation gives us Bayes's theorem:\n",
    "\n",
    "$P(A|B)$ = ${P(B|A)P(A)} \\over P(B)$\n",
    "\n",
    "## First things to note!\n",
    "\n",
    "1. Bayes's theorem allows us to move from $P(B|A)$ to $P(A|B)$. *If* we know the values for $P(A)$ and $P(B)$. The situation we are mostly concerned with is moving from $P(evidence|hypothesis)$ to $P(hypothesis|evidence)$. Just let the magic sink in for a minute!\n",
    "\n",
    "2. We can also use the theorem as a rule for belief updating. Say $P(H)$ is the probability you assign H before seeing the data (this is called the **prior**), then the probability of H after seeing the data, $P(H|D)$ (the **posterior** probability) should be ${P(D|H)P(H)} \\over P(D)$. The trick if to find $P(D)$. Can you guess how this is done?\n"
   ]
  },
  {
   "cell_type": "markdown",
   "metadata": {},
   "source": [
    "## The Cookie problem\n",
    "\n",
    "I will now work through some examples from [Allen Downey](https://github.com/AllenDowney/ThinkBayes).\n",
    "\n",
    "Suppose there are two bowls of cookies:\n",
    "\n",
    "Bowl 1: 10 chocolate, 30 vanilla\n",
    "Bowl 2: 20 chocolate, 20 vanilla\n",
    "\n",
    "You pick one bowl at random, and one cooke from it. It is vanilla. What's the probability that you picked bowl 1?\n",
    "\n",
    "H: The hypothesis that it is bowl 1.\n",
    "D: Cookie is vanilla.\n",
    "\n",
    "P(H) = 1/2 **WHY?**\n",
    "\n",
    "So what is $P(H|D)$?\n",
    "\n",
    "$P(H|D)$ = ${P(D|H)P(H)} \\over {P(D)}$\n",
    "\n",
    "$P(D|H)$ = 3/4\n",
    "\n",
    "P(D) = 5/8 **WHY?**\n",
    "\n",
    "Combining, we get:\n",
    "\n",
    "$P(H|D)=(3/4)(1/2)/(5/8)=3/5$\n",
    "\n",
    "So we should now assign 60%, rather than 50% to the bowl being bowl 1.\n",
    "\n",
    "**The reason is simple: since H makes D more likely, evidence of D increases our confidence in H.**\n",
    "\n",
    "**Notice that we needed the prior to do the calculation. A key contention of the Bayesian approach is that \"you do not get probabilities out, unless you put probabilties in.\""
   ]
  },
  {
   "cell_type": "code",
   "execution_count": 25,
   "metadata": {},
   "outputs": [
    {
     "name": "stdout",
     "output_type": "stream",
     "text": [
      "Bowl 1 0.5\n",
      "Bowl 2 0.5\n"
     ]
    }
   ],
   "source": [
    "from __future__ import print_function, division\n",
    "\n",
    "import math\n",
    "import numpy as np\n",
    "\n",
    "from thinkbayes2 import Pmf, Suite\n",
    "import thinkplot\n",
    "\n",
    "import warnings\n",
    "warnings.filterwarnings('ignore')\n",
    "\n",
    "%matplotlib inline\n",
    "\n",
    "cookie = Pmf(['Bowl 1', 'Bowl 2'])\n",
    "cookie.Print()"
   ]
  },
  {
   "cell_type": "markdown",
   "metadata": {},
   "source": [
    "Update each hypothesis with the likelihood of the data (a vanilla cookie)."
   ]
  },
  {
   "cell_type": "code",
   "execution_count": 26,
   "metadata": {},
   "outputs": [
    {
     "data": {
      "image/png": "[encoded data removed]",
      "text/latex": [
       "$$0.625$$"
      ],
      "text/plain": [
       "0.625"
      ]
     },
     "execution_count": 26,
     "metadata": {},
     "output_type": "execute_result"
    }
   ],
   "source": [
    "cookie['Bowl 1'] *= 0.75\n",
    "cookie['Bowl 2'] *= 0.5\n",
    "cookie.Normalize()"
   ]
  },
  {
   "cell_type": "code",
   "execution_count": 27,
   "metadata": {},
   "outputs": [
    {
     "name": "stdout",
     "output_type": "stream",
     "text": [
      "Bowl 1 0.6\n",
      "Bowl 2 0.4\n"
     ]
    }
   ],
   "source": [
    "cookie.Print()"
   ]
  },
  {
   "cell_type": "markdown",
   "metadata": {},
   "source": [
    "\n",
    "## Coin problem\n",
    "\n",
    "Assume a coin has a probability $x$ of landing heads. Based on the data of 140 heads and 110 tails what is $x$?"
   ]
  },
  {
   "cell_type": "code",
   "execution_count": 28,
   "metadata": {},
   "outputs": [],
   "source": [
    "# Solution\n",
    "\n",
    "class Euro(Suite):\n",
    "    \n",
    "    def Likelihood(self, data, hypo):\n",
    "        \"\"\" \n",
    "        hypo is the prob of heads (0-100)\n",
    "        data is a string, either 'H' or 'T'\n",
    "        \"\"\"\n",
    "        x = hypo / 100\n",
    "        if data == 'H':\n",
    "            return x\n",
    "        else:\n",
    "            return 1-x"
   ]
  },
  {
   "cell_type": "markdown",
   "metadata": {},
   "source": [
    "We'll start with a uniform distribution from 0 to 100."
   ]
  },
  {
   "cell_type": "code",
   "execution_count": 29,
   "metadata": {},
   "outputs": [
    {
     "data": {
      "image/png": "[encoded data removed]",
      "text/plain": [
       "<Figure size 432x288 with 1 Axes>"
      ]
     },
     "metadata": {},
     "output_type": "display_data"
    }
   ],
   "source": [
    "euro = Euro(range(101))\n",
    "thinkplot.Pdf(euro)"
   ]
  },
  {
   "cell_type": "markdown",
   "metadata": {},
   "source": [
    "Now we can update with a single heads:"
   ]
  },
  {
   "cell_type": "code",
   "execution_count": 30,
   "metadata": {},
   "outputs": [
    {
     "data": {
      "image/png": "[encoded data removed]",
      "text/plain": [
       "<Figure size 432x288 with 1 Axes>"
      ]
     },
     "metadata": {},
     "output_type": "display_data"
    }
   ],
   "source": [
    "euro.Update('H')\n",
    "thinkplot.Pdf(euro)"
   ]
  },
  {
   "cell_type": "markdown",
   "metadata": {},
   "source": [
    "Another heads:"
   ]
  },
  {
   "cell_type": "code",
   "execution_count": 31,
   "metadata": {},
   "outputs": [
    {
     "data": {
      "image/png": "[encoded data removed]",
      "text/plain": [
       "<Figure size 432x288 with 1 Axes>"
      ]
     },
     "metadata": {},
     "output_type": "display_data"
    }
   ],
   "source": [
    "euro.Update('H')\n",
    "thinkplot.Pdf(euro)"
   ]
  },
  {
   "cell_type": "markdown",
   "metadata": {},
   "source": [
    "And a tails:"
   ]
  },
  {
   "cell_type": "code",
   "execution_count": 32,
   "metadata": {},
   "outputs": [
    {
     "data": {
      "image/png": "[encoded data removed]",
      "text/plain": [
       "<Figure size 432x288 with 1 Axes>"
      ]
     },
     "metadata": {},
     "output_type": "display_data"
    }
   ],
   "source": [
    "euro.Update('T')\n",
    "thinkplot.Pdf(euro)"
   ]
  },
  {
   "cell_type": "markdown",
   "metadata": {},
   "source": [
    "Starting over, here's what it looks like after 7 heads and 3 tails."
   ]
  },
  {
   "cell_type": "code",
   "execution_count": 33,
   "metadata": {},
   "outputs": [
    {
     "data": {
      "image/png": "[encoded data removed]",
      "text/latex": [
       "$$70$$"
      ],
      "text/plain": [
       "70"
      ]
     },
     "execution_count": 33,
     "metadata": {},
     "output_type": "execute_result"
    },
    {
     "data": {
      "image/png": "[encoded data removed]",
      "text/plain": [
       "<Figure size 432x288 with 1 Axes>"
      ]
     },
     "metadata": {},
     "output_type": "display_data"
    }
   ],
   "source": [
    "euro = Euro(range(101))\n",
    "\n",
    "for outcome in 'HHHHHHHTTT':\n",
    "    euro.Update(outcome)\n",
    "\n",
    "thinkplot.Pdf(euro)\n",
    "euro.MaximumLikelihood()"
   ]
  },
  {
   "cell_type": "markdown",
   "metadata": {},
   "source": [
    "The maximum posterior probability is 70%, which is the observed proportion.\n",
    "\n",
    "Here are the posterior probabilities after 140 heads and 110 tails."
   ]
  },
  {
   "cell_type": "code",
   "execution_count": 34,
   "metadata": {
    "scrolled": true
   },
   "outputs": [
    {
     "data": {
      "image/png": "[encoded data removed]",
      "text/plain": [
       "<Figure size 432x288 with 1 Axes>"
      ]
     },
     "metadata": {},
     "output_type": "display_data"
    }
   ],
   "source": [
    "euro = Euro(range(101))\n",
    "\n",
    "evidence = 'H' * 140 + 'T' * 110\n",
    "for outcome in evidence:\n",
    "    euro.Update(outcome)\n",
    "    \n",
    "thinkplot.Pdf(euro)"
   ]
  },
  {
   "cell_type": "markdown",
   "metadata": {},
   "source": [
    "The posterior mean s about 56%"
   ]
  },
  {
   "cell_type": "code",
   "execution_count": 35,
   "metadata": {},
   "outputs": [
    {
     "data": {
      "image/png": "[encoded data removed]",
      "text/latex": [
       "$$55.9523809524$$"
      ],
      "text/plain": [
       "55.9523809524"
      ]
     },
     "execution_count": 35,
     "metadata": {},
     "output_type": "execute_result"
    }
   ],
   "source": [
    "euro.Mean()"
   ]
  },
  {
   "cell_type": "markdown",
   "metadata": {},
   "source": [
    "So is the value with maximum posterior probability."
   ]
  },
  {
   "cell_type": "code",
   "execution_count": 36,
   "metadata": {},
   "outputs": [
    {
     "data": {
      "image/png": "[encoded data removed]",
      "text/latex": [
       "$$56$$"
      ],
      "text/plain": [
       "56"
      ]
     },
     "execution_count": 36,
     "metadata": {},
     "output_type": "execute_result"
    }
   ],
   "source": [
    "euro.MaximumLikelihood()"
   ]
  },
  {
   "cell_type": "markdown",
   "metadata": {},
   "source": [
    "The posterior credible interval has a 90% chance of containing the true value (provided that the prior distribution truly represents our background knowledge)."
   ]
  },
  {
   "cell_type": "code",
   "execution_count": 37,
   "metadata": {},
   "outputs": [
    {
     "data": {
      "image/png": "[encoded data removed]",
      "text/latex": [
       "$$\\left ( 51, \\quad 61\\right )$$"
      ],
      "text/plain": [
       "(51, 61)"
      ]
     },
     "execution_count": 37,
     "metadata": {},
     "output_type": "execute_result"
    }
   ],
   "source": [
    "euro.CredibleInterval(90)"
   ]
  },
  {
   "cell_type": "markdown",
   "metadata": {},
   "source": [
    "### Some lessons\n",
    "\n",
    "1. The prior is needed, but is all but washed out by data.\n",
    "\n",
    "2. The result is a posterior **distribution**, not a single number. We can summarize it by choosing the mean or the value with the maximum likelyhood, but when we do so we loose information."
   ]
  },
  {
   "cell_type": "markdown",
   "metadata": {},
   "source": [
    "# Law of Likelihood\n",
    "\n",
    "> The observation O favors hypothesis $H_1$ over $H_2$ iff $P(O|H_1) > P(O|H_2)$. \n",
    "\n",
    "> The degree to which O favors $H_1$ is $P(O|H_1) \\over P(O|H_2)$"
   ]
  },
  {
   "cell_type": "markdown",
   "metadata": {},
   "source": [
    "# Related reading\n",
    "\n",
    "* SEP entry on [Interpretations of Probability](http://plato.stanford.edu/entries/probability-interpret/)."
   ]
  }
 ],
 "metadata": {
  "kernelspec": {
   "display_name": "Python 2",
   "language": "python",
   "name": "python2"
  },
  "language_info": {
   "codemirror_mode": {
    "name": "ipython",
    "version": 2
   },
   "file_extension": ".py",
   "mimetype": "text/x-python",
   "name": "python",
   "nbconvert_exporter": "python",
   "pygments_lexer": "ipython2",
   "version": "2.7.14"
  }
 },
 "nbformat": 4,
 "nbformat_minor": 1
}
