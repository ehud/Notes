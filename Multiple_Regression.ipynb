{
  "nbformat": 4,
  "nbformat_minor": 0,
  "metadata": {
    "colab": {
      "name": "Multiple Regression.ipynb",
      "version": "0.3.2",
      "provenance": [],
      "collapsed_sections": [],
      "include_colab_link": true
    },
    "kernelspec": {
      "name": "python3",
      "display_name": "Python 3"
    }
  },
  "cells": [
    {
      "cell_type": "markdown",
      "metadata": {
        "id": "view-in-github",
        "colab_type": "text"
      },
      "source": [
        "<a href=\"https://colab.research.google.com/github/ehud/Notes/blob/master/Multiple_Regression.ipynb\" target=\"_parent\"><img src=\"https://colab.research.google.com/assets/colab-badge.svg\" alt=\"Open In Colab\"/></a>"
      ]
    },
    {
      "cell_type": "markdown",
      "metadata": {
        "id": "dGNv8xvZv7hm",
        "colab_type": "text"
      },
      "source": [
        "Python version of example from here: https://stats.stackexchange.com/questions/17336/how-exactly-does-one-control-for-other-variables\n",
        "\n",
        "R version with step by step explanations: https://colab.research.google.com/drive/1sGCECEFcLCj4T-sUgbl_wPDn_TaREcna"
      ]
    },
    {
      "cell_type": "code",
      "metadata": {
        "id": "Gpi6-cefm1PU",
        "colab_type": "code",
        "outputId": "8390be3c-76aa-4d04-9725-7c5a1373a937",
        "colab": {
          "base_uri": "https://localhost:8080/",
          "height": 36
        }
      },
      "source": [
        "%pylab inline"
      ],
      "execution_count": 1,
      "outputs": [
        {
          "output_type": "stream",
          "text": [
            "Populating the interactive namespace from numpy and matplotlib\n"
          ],
          "name": "stdout"
        }
      ]
    },
    {
      "cell_type": "code",
      "metadata": {
        "id": "KuJOl6VWneo1",
        "colab_type": "code",
        "colab": {}
      },
      "source": [
        "covariate=np.random.randint(0,2,100)"
      ],
      "execution_count": 0,
      "outputs": []
    },
    {
      "cell_type": "code",
      "metadata": {
        "id": "dvmhCqY5nofX",
        "colab_type": "code",
        "colab": {}
      },
      "source": [
        " exposure =random.uniform(0,1,(100,))+(0.3*covariate)"
      ],
      "execution_count": 0,
      "outputs": []
    },
    {
      "cell_type": "code",
      "metadata": {
        "id": "pAjOLoh4ojt1",
        "colab_type": "code",
        "colab": {}
      },
      "source": [
        "outcome   = 2.0+(0.5*exposure)+(0.25*covariate)"
      ],
      "execution_count": 0,
      "outputs": []
    },
    {
      "cell_type": "code",
      "metadata": {
        "id": "VsJ4rKu1oreN",
        "colab_type": "code",
        "outputId": "f59e175a-125b-4847-97f1-900525ada654",
        "colab": {
          "base_uri": "https://localhost:8080/",
          "height": 322
        }
      },
      "source": [
        "import pandas as pd\n",
        "from statsmodels.formula.api import ols\n",
        "\n",
        "data=pd.DataFrame({'covariate':covariate,'exposure':exposure,'outcome':outcome})\n",
        "results = ols('outcome ~ exposure',data=data).fit()\n",
        "results.summary2()"
      ],
      "execution_count": 9,
      "outputs": [
        {
          "output_type": "execute_result",
          "data": {
            "text/html": [
              "<table class=\"simpletable\">\n",
              "<tr>\n",
              "        <td>Model:</td>               <td>OLS</td>         <td>Adj. R-squared:</td>     <td>0.742</td>  \n",
              "</tr>\n",
              "<tr>\n",
              "  <td>Dependent Variable:</td>      <td>outcome</td>            <td>AIC:</td>         <td>-141.5737</td>\n",
              "</tr>\n",
              "<tr>\n",
              "         <td>Date:</td>        <td>2019-05-02 20:12</td>        <td>BIC:</td>         <td>-136.3634</td>\n",
              "</tr>\n",
              "<tr>\n",
              "   <td>No. Observations:</td>         <td>100</td>         <td>Log-Likelihood:</td>    <td>72.787</td>  \n",
              "</tr>\n",
              "<tr>\n",
              "       <td>Df Model:</td>              <td>1</td>           <td>F-statistic:</td>       <td>285.7</td>  \n",
              "</tr>\n",
              "<tr>\n",
              "     <td>Df Residuals:</td>           <td>98</td>        <td>Prob (F-statistic):</td> <td>8.36e-31</td> \n",
              "</tr>\n",
              "<tr>\n",
              "      <td>R-squared:</td>            <td>0.745</td>            <td>Scale:</td>        <td>0.013934</td> \n",
              "</tr>\n",
              "</table>\n",
              "<table class=\"simpletable\">\n",
              "<tr>\n",
              "      <td></td>       <th>Coef.</th> <th>Std.Err.</th>    <th>t</th>     <th>P>|t|</th> <th>[0.025</th> <th>0.975]</th>\n",
              "</tr>\n",
              "<tr>\n",
              "  <th>Intercept</th> <td>2.0231</td>  <td>0.0281</td>  <td>72.0657</td> <td>0.0000</td> <td>1.9674</td> <td>2.0788</td>\n",
              "</tr>\n",
              "<tr>\n",
              "  <th>exposure</th>  <td>0.6404</td>  <td>0.0379</td>  <td>16.9027</td> <td>0.0000</td> <td>0.5652</td> <td>0.7156</td>\n",
              "</tr>\n",
              "</table>\n",
              "<table class=\"simpletable\">\n",
              "<tr>\n",
              "     <td>Omnibus:</td>    <td>521.416</td>  <td>Durbin-Watson:</td>    <td>1.763</td>\n",
              "</tr>\n",
              "<tr>\n",
              "  <td>Prob(Omnibus):</td>  <td>0.000</td>  <td>Jarque-Bera (JB):</td> <td>10.336</td>\n",
              "</tr>\n",
              "<tr>\n",
              "       <td>Skew:</td>      <td>0.087</td>      <td>Prob(JB):</td>      <td>0.006</td>\n",
              "</tr>\n",
              "<tr>\n",
              "     <td>Kurtosis:</td>    <td>1.435</td>   <td>Condition No.:</td>      <td>5</td>  \n",
              "</tr>\n",
              "</table>"
            ],
            "text/plain": [
              "<class 'statsmodels.iolib.summary2.Summary'>\n",
              "\"\"\"\n",
              "                 Results: Ordinary least squares\n",
              "==================================================================\n",
              "Model:              OLS              Adj. R-squared:     0.742    \n",
              "Dependent Variable: outcome          AIC:                -141.5737\n",
              "Date:               2019-05-02 20:12 BIC:                -136.3634\n",
              "No. Observations:   100              Log-Likelihood:     72.787   \n",
              "Df Model:           1                F-statistic:        285.7    \n",
              "Df Residuals:       98               Prob (F-statistic): 8.36e-31 \n",
              "R-squared:          0.745            Scale:              0.013934 \n",
              "--------------------------------------------------------------------\n",
              "              Coef.    Std.Err.      t      P>|t|    [0.025   0.975]\n",
              "--------------------------------------------------------------------\n",
              "Intercept     2.0231     0.0281   72.0657   0.0000   1.9674   2.0788\n",
              "exposure      0.6404     0.0379   16.9027   0.0000   0.5652   0.7156\n",
              "------------------------------------------------------------------\n",
              "Omnibus:              521.416       Durbin-Watson:          1.763 \n",
              "Prob(Omnibus):        0.000         Jarque-Bera (JB):       10.336\n",
              "Skew:                 0.087         Prob(JB):               0.006 \n",
              "Kurtosis:             1.435         Condition No.:          5     \n",
              "==================================================================\n",
              "\n",
              "\"\"\""
            ]
          },
          "metadata": {
            "tags": []
          },
          "execution_count": 9
        }
      ]
    },
    {
      "cell_type": "code",
      "metadata": {
        "id": "8I9P6zRhpaJx",
        "colab_type": "code",
        "outputId": "5a3cf579-e66f-4047-c5a4-67797ba965ee",
        "colab": {
          "base_uri": "https://localhost:8080/",
          "height": 344
        }
      },
      "source": [
        "results = ols('outcome ~ exposure+covariate',data=data).fit()\n",
        "results.summary2()"
      ],
      "execution_count": 10,
      "outputs": [
        {
          "output_type": "execute_result",
          "data": {
            "text/html": [
              "<table class=\"simpletable\">\n",
              "<tr>\n",
              "        <td>Model:</td>               <td>OLS</td>         <td>Adj. R-squared:</td>      <td>1.000</td>  \n",
              "</tr>\n",
              "<tr>\n",
              "  <td>Dependent Variable:</td>      <td>outcome</td>            <td>AIC:</td>         <td>-6470.3043</td>\n",
              "</tr>\n",
              "<tr>\n",
              "         <td>Date:</td>        <td>2019-05-02 20:12</td>        <td>BIC:</td>         <td>-6462.4888</td>\n",
              "</tr>\n",
              "<tr>\n",
              "   <td>No. Observations:</td>         <td>100</td>         <td>Log-Likelihood:</td>     <td>3238.2</td>  \n",
              "</tr>\n",
              "<tr>\n",
              "       <td>Df Model:</td>              <td>2</td>           <td>F-statistic:</td>      <td>5.923e+29</td>\n",
              "</tr>\n",
              "<tr>\n",
              "     <td>Df Residuals:</td>           <td>97</td>        <td>Prob (F-statistic):</td>    <td>0.00</td>   \n",
              "</tr>\n",
              "<tr>\n",
              "      <td>R-squared:</td>            <td>1.000</td>            <td>Scale:</td>        <td>4.5136e-30</td>\n",
              "</tr>\n",
              "</table>\n",
              "<table class=\"simpletable\">\n",
              "<tr>\n",
              "      <td></td>       <th>Coef.</th> <th>Std.Err.</th>           <th>t</th>            <th>P>|t|</th> <th>[0.025</th> <th>0.975]</th>\n",
              "</tr>\n",
              "<tr>\n",
              "  <th>Intercept</th> <td>2.0000</td>  <td>0.0000</td>  <td>3944752018701820.5000</td> <td>0.0000</td> <td>2.0000</td> <td>2.0000</td>\n",
              "</tr>\n",
              "<tr>\n",
              "  <th>exposure</th>  <td>0.5000</td>  <td>0.0000</td>  <td>686731232963876.1250</td>  <td>0.0000</td> <td>0.5000</td> <td>0.5000</td>\n",
              "</tr>\n",
              "<tr>\n",
              "  <th>covariate</th> <td>0.2500</td>  <td>0.0000</td>  <td>550037902076897.2500</td>  <td>0.0000</td> <td>0.2500</td> <td>0.2500</td>\n",
              "</tr>\n",
              "</table>\n",
              "<table class=\"simpletable\">\n",
              "<tr>\n",
              "     <td>Omnibus:</td>    <td>1.500</td>  <td>Durbin-Watson:</td>   <td>0.060</td>\n",
              "</tr>\n",
              "<tr>\n",
              "  <td>Prob(Omnibus):</td> <td>0.472</td> <td>Jarque-Bera (JB):</td> <td>1.321</td>\n",
              "</tr>\n",
              "<tr>\n",
              "       <td>Skew:</td>     <td>0.126</td>     <td>Prob(JB):</td>     <td>0.517</td>\n",
              "</tr>\n",
              "<tr>\n",
              "     <td>Kurtosis:</td>   <td>2.497</td>  <td>Condition No.:</td>     <td>5</td>  \n",
              "</tr>\n",
              "</table>"
            ],
            "text/plain": [
              "<class 'statsmodels.iolib.summary2.Summary'>\n",
              "\"\"\"\n",
              "                  Results: Ordinary least squares\n",
              "====================================================================\n",
              "Model:               OLS              Adj. R-squared:     1.000     \n",
              "Dependent Variable:  outcome          AIC:                -6470.3043\n",
              "Date:                2019-05-02 20:12 BIC:                -6462.4888\n",
              "No. Observations:    100              Log-Likelihood:     3238.2    \n",
              "Df Model:            2                F-statistic:        5.923e+29 \n",
              "Df Residuals:        97               Prob (F-statistic): 0.00      \n",
              "R-squared:           1.000            Scale:              4.5136e-30\n",
              "--------------------------------------------------------------------\n",
              "          Coef.  Std.Err.           t           P>|t|  [0.025 0.975]\n",
              "--------------------------------------------------------------------\n",
              "Intercept 2.0000   0.0000 3944752018701820.5000 0.0000 2.0000 2.0000\n",
              "exposure  0.5000   0.0000  686731232963876.1250 0.0000 0.5000 0.5000\n",
              "covariate 0.2500   0.0000  550037902076897.2500 0.0000 0.2500 0.2500\n",
              "--------------------------------------------------------------------\n",
              "Omnibus:               1.500         Durbin-Watson:            0.060\n",
              "Prob(Omnibus):         0.472         Jarque-Bera (JB):         1.321\n",
              "Skew:                  0.126         Prob(JB):                 0.517\n",
              "Kurtosis:              2.497         Condition No.:            5    \n",
              "====================================================================\n",
              "\n",
              "\"\"\""
            ]
          },
          "metadata": {
            "tags": []
          },
          "execution_count": 10
        }
      ]
    },
    {
      "cell_type": "code",
      "metadata": {
        "id": "3zysnMpmr8Ca",
        "colab_type": "code",
        "outputId": "39954792-3dc9-42ac-9644-545202a20d35",
        "colab": {
          "base_uri": "https://localhost:8080/",
          "height": 272
        }
      },
      "source": [
        "import graphviz\n",
        "from graphviz import Digraph\n",
        "from ipywidgets import Image\n",
        "\n",
        "dot = Digraph()\n",
        "dot.node('c', 'covariate')\n",
        "dot.node('e', 'exposure')\n",
        "dot.node('o', 'outcome')\n",
        "dot.edges(['ce','co','eo'])\n",
        "\n",
        "#print(dot.source)\n",
        "graphviz.Source(dot)"
      ],
      "execution_count": 7,
      "outputs": [
        {
          "output_type": "execute_result",
          "data": {
            "text/plain": [
              "<graphviz.files.Source at 0x7f7bc5bb6d68>"
            ],
            "image/svg+xml": "<?xml version=\"1.0\" encoding=\"UTF-8\" standalone=\"no\"?>\n<!DOCTYPE svg PUBLIC \"-//W3C//DTD SVG 1.1//EN\"\n \"http://www.w3.org/Graphics/SVG/1.1/DTD/svg11.dtd\">\n<!-- Generated by graphviz version 2.40.1 (20161225.0304)\n -->\n<!-- Title: %3 Pages: 1 -->\n<svg width=\"132pt\" height=\"188pt\"\n viewBox=\"0.00 0.00 132.39 188.00\" xmlns=\"http://www.w3.org/2000/svg\" xmlns:xlink=\"http://www.w3.org/1999/xlink\">\n<g id=\"graph0\" class=\"graph\" transform=\"scale(1 1) rotate(0) translate(4 184)\">\n<title>%3</title>\n<polygon fill=\"#ffffff\" stroke=\"transparent\" points=\"-4,4 -4,-184 128.3922,-184 128.3922,4 -4,4\"/>\n<!-- c -->\n<g id=\"node1\" class=\"node\">\n<title>c</title>\n<ellipse fill=\"none\" stroke=\"#000000\" cx=\"80.1961\" cy=\"-162\" rx=\"44.393\" ry=\"18\"/>\n<text text-anchor=\"middle\" x=\"80.1961\" y=\"-158.3\" font-family=\"Times,serif\" font-size=\"14.00\" fill=\"#000000\">covariate</text>\n</g>\n<!-- e -->\n<g id=\"node2\" class=\"node\">\n<title>e</title>\n<ellipse fill=\"none\" stroke=\"#000000\" cx=\"44.1961\" cy=\"-90\" rx=\"44.393\" ry=\"18\"/>\n<text text-anchor=\"middle\" x=\"44.1961\" y=\"-86.3\" font-family=\"Times,serif\" font-size=\"14.00\" fill=\"#000000\">exposure</text>\n</g>\n<!-- c&#45;&gt;e -->\n<g id=\"edge1\" class=\"edge\">\n<title>c&#45;&gt;e</title>\n<path fill=\"none\" stroke=\"#000000\" d=\"M71.2972,-144.2022C67.1866,-135.981 62.2166,-126.041 57.6612,-116.9301\"/>\n<polygon fill=\"#000000\" stroke=\"#000000\" points=\"60.72,-115.2216 53.1174,-107.8425 54.459,-118.3521 60.72,-115.2216\"/>\n</g>\n<!-- o -->\n<g id=\"node3\" class=\"node\">\n<title>o</title>\n<ellipse fill=\"none\" stroke=\"#000000\" cx=\"80.1961\" cy=\"-18\" rx=\"42.7926\" ry=\"18\"/>\n<text text-anchor=\"middle\" x=\"80.1961\" y=\"-14.3\" font-family=\"Times,serif\" font-size=\"14.00\" fill=\"#000000\">outcome</text>\n</g>\n<!-- c&#45;&gt;o -->\n<g id=\"edge2\" class=\"edge\">\n<title>c&#45;&gt;o</title>\n<path fill=\"none\" stroke=\"#000000\" d=\"M87.4399,-143.8366C91.1673,-133.513 95.3149,-120.2403 97.1961,-108 99.6266,-92.1857 99.6266,-87.8143 97.1961,-72 95.8587,-63.2979 93.3757,-54.074 90.7127,-45.759\"/>\n<polygon fill=\"#000000\" stroke=\"#000000\" points=\"93.9807,-44.4982 87.4399,-36.1634 87.3555,-46.7579 93.9807,-44.4982\"/>\n</g>\n<!-- e&#45;&gt;o -->\n<g id=\"edge3\" class=\"edge\">\n<title>e&#45;&gt;o</title>\n<path fill=\"none\" stroke=\"#000000\" d=\"M53.095,-72.2022C57.2056,-63.981 62.1756,-54.041 66.731,-44.9301\"/>\n<polygon fill=\"#000000\" stroke=\"#000000\" points=\"69.9331,-46.3521 71.2748,-35.8425 63.6721,-43.2216 69.9331,-46.3521\"/>\n</g>\n</g>\n</svg>\n"
          },
          "metadata": {
            "tags": []
          },
          "execution_count": 7
        }
      ]
    },
    {
      "cell_type": "code",
      "metadata": {
        "id": "hDazH4CTs21x",
        "colab_type": "code",
        "outputId": "4c90b67e-791f-4ac2-ae1c-29f8d92df5d3",
        "colab": {
          "base_uri": "https://localhost:8080/",
          "height": 176
        }
      },
      "source": [
        "# different case. try to simulate, and control (this is a simpler case than the one above)\n",
        "\n",
        "dot = Digraph()\n",
        "dot.node('g', 'gender')\n",
        "dot.node('h', 'height')\n",
        "dot.node('t', 'tv time')\n",
        "dot.edges(['gh','gt'])\n",
        "graphviz.Source(dot)"
      ],
      "execution_count": 8,
      "outputs": [
        {
          "output_type": "execute_result",
          "data": {
            "text/plain": [
              "<graphviz.files.Source at 0x7f7bc5b687f0>"
            ],
            "image/svg+xml": "<?xml version=\"1.0\" encoding=\"UTF-8\" standalone=\"no\"?>\n<!DOCTYPE svg PUBLIC \"-//W3C//DTD SVG 1.1//EN\"\n \"http://www.w3.org/Graphics/SVG/1.1/DTD/svg11.dtd\">\n<!-- Generated by graphviz version 2.40.1 (20161225.0304)\n -->\n<!-- Title: %3 Pages: 1 -->\n<svg width=\"168pt\" height=\"116pt\"\n viewBox=\"0.00 0.00 167.84 116.00\" xmlns=\"http://www.w3.org/2000/svg\" xmlns:xlink=\"http://www.w3.org/1999/xlink\">\n<g id=\"graph0\" class=\"graph\" transform=\"scale(1 1) rotate(0) translate(4 112)\">\n<title>%3</title>\n<polygon fill=\"#ffffff\" stroke=\"transparent\" points=\"-4,4 -4,-112 163.8437,-112 163.8437,4 -4,4\"/>\n<!-- g -->\n<g id=\"node1\" class=\"node\">\n<title>g</title>\n<ellipse fill=\"none\" stroke=\"#000000\" cx=\"78.4469\" cy=\"-90\" rx=\"36.2938\" ry=\"18\"/>\n<text text-anchor=\"middle\" x=\"78.4469\" y=\"-86.3\" font-family=\"Times,serif\" font-size=\"14.00\" fill=\"#000000\">gender</text>\n</g>\n<!-- h -->\n<g id=\"node2\" class=\"node\">\n<title>h</title>\n<ellipse fill=\"none\" stroke=\"#000000\" cx=\"34.4469\" cy=\"-18\" rx=\"34.394\" ry=\"18\"/>\n<text text-anchor=\"middle\" x=\"34.4469\" y=\"-14.3\" font-family=\"Times,serif\" font-size=\"14.00\" fill=\"#000000\">height</text>\n</g>\n<!-- g&#45;&gt;h -->\n<g id=\"edge1\" class=\"edge\">\n<title>g&#45;&gt;h</title>\n<path fill=\"none\" stroke=\"#000000\" d=\"M67.7958,-72.5708C62.5533,-63.9922 56.1269,-53.4762 50.3194,-43.9732\"/>\n<polygon fill=\"#000000\" stroke=\"#000000\" points=\"53.2011,-41.9764 45,-35.2687 47.2281,-45.6266 53.2011,-41.9764\"/>\n</g>\n<!-- t -->\n<g id=\"node3\" class=\"node\">\n<title>t</title>\n<ellipse fill=\"none\" stroke=\"#000000\" cx=\"123.4469\" cy=\"-18\" rx=\"36.2938\" ry=\"18\"/>\n<text text-anchor=\"middle\" x=\"123.4469\" y=\"-14.3\" font-family=\"Times,serif\" font-size=\"14.00\" fill=\"#000000\">tv time</text>\n</g>\n<!-- g&#45;&gt;t -->\n<g id=\"edge2\" class=\"edge\">\n<title>g&#45;&gt;t</title>\n<path fill=\"none\" stroke=\"#000000\" d=\"M89.3402,-72.5708C94.7018,-63.9922 101.2743,-53.4762 107.2137,-43.9732\"/>\n<polygon fill=\"#000000\" stroke=\"#000000\" points=\"110.322,-45.6037 112.654,-35.2687 104.386,-41.8937 110.322,-45.6037\"/>\n</g>\n</g>\n</svg>\n"
          },
          "metadata": {
            "tags": []
          },
          "execution_count": 8
        }
      ]
    },
    {
      "cell_type": "code",
      "metadata": {
        "id": "V9O_NUOMuGdX",
        "colab_type": "code",
        "colab": {}
      },
      "source": [
        ""
      ],
      "execution_count": 0,
      "outputs": []
    }
  ]
}